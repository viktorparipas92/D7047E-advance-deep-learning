{
 "cells": [
  {
   "cell_type": "markdown",
   "metadata": {},
   "source": [
    "# Prepare data\n"
   ]
  },
  {
   "cell_type": "code",
   "execution_count": 32,
   "metadata": {},
   "outputs": [
    {
     "name": "stdout",
     "output_type": "stream",
     "text": [
      "file_len = 1115394\n"
     ]
    }
   ],
   "source": [
    "import unidecode\n",
    "import string\n",
    "import random\n",
    "import re\n",
    "\n",
    "all_characters = string.printable\n",
    "n_characters = len(all_characters)\n",
    "\n",
    "file = unidecode.unidecode(open('shakespeare.txt').read())\n",
    "file_len = len(file)\n",
    "print('file_len =', file_len)"
   ]
  },
  {
   "cell_type": "markdown",
   "metadata": {},
   "source": [
    "To make inputs out of this big string of data, we will be splitting it into chunks."
   ]
  },
  {
   "cell_type": "code",
   "execution_count": 33,
   "metadata": {},
   "outputs": [
    {
     "name": "stdout",
     "output_type": "stream",
     "text": [
      "rcumvention? 'Tis not four days gone\n",
      "Since I heard thence; these are the words: I think\n",
      "I have the letter here; yes, here it is.\n",
      "'They have press'd a power, but it is not known\n",
      "Whether for east or west\n"
     ]
    }
   ],
   "source": [
    "chunk_len = 200\n",
    "\n",
    "def random_chunk():\n",
    "    start_index = random.randint(0, file_len - chunk_len)\n",
    "    end_index = start_index + chunk_len + 1\n",
    "    return file[start_index:end_index]\n",
    "\n",
    "print(random_chunk())"
   ]
  },
  {
   "cell_type": "markdown",
   "metadata": {},
   "source": [
    "# Build the Model\n",
    "\n",
    "This model will take as input the character for step $t_{-1}$ and is expected to output the next character $t$. There are three layers - one linear layer that encodes the input character into an internal state, one GRU layer (which may itself have multiple layers) that operates on that internal state and a hidden state, and a decoder layer that outputs the probability distribution."
   ]
  },
  {
   "cell_type": "code",
   "execution_count": 34,
   "metadata": {},
   "outputs": [],
   "source": [
    "import torch\n",
    "import torch.nn as nn\n",
    "from torch.autograd import Variable\n",
    "\n",
    "class RNN(nn.Module):\n",
    "    def __init__(self, input_size, hidden_size, output_size, n_layers=1):\n",
    "        super(RNN, self).__init__()\n",
    "        self.input_size = input_size\n",
    "        self.hidden_size = hidden_size\n",
    "        self.output_size = output_size\n",
    "        self.n_layers = n_layers\n",
    "        \n",
    "        self.encoder = nn.Embedding(input_size, hidden_size)\n",
    "        self.gru = nn.GRU(hidden_size, hidden_size, n_layers)\n",
    "        self.decoder = nn.Linear(hidden_size, output_size)\n",
    "    \n",
    "    def forward(self, input, hidden):\n",
    "        input = self.encoder(input.view(1, -1))\n",
    "        output, hidden = self.gru(input.view(1, 1, -1), hidden)\n",
    "        output = self.decoder(output.view(1, -1))\n",
    "        return output, hidden\n",
    "\n",
    "    def init_hidden(self):\n",
    "        return Variable(torch.zeros(self.n_layers, 1, self.hidden_size))"
   ]
  },
  {
   "cell_type": "markdown",
   "metadata": {},
   "source": [
    "# Inputs and Targets"
   ]
  },
  {
   "cell_type": "markdown",
   "metadata": {},
   "source": [
    "Each chunk will be turned into a tensor, specifically a `LongTensor` (used for integer values), by looping through the characters of the string and looking up the index of each character in `all_characters`."
   ]
  },
  {
   "cell_type": "code",
   "execution_count": 35,
   "metadata": {},
   "outputs": [
    {
     "name": "stdout",
     "output_type": "stream",
     "text": [
      "tensor([10, 11, 12, 39, 40, 41])\n"
     ]
    }
   ],
   "source": [
    "# Turn string into list of longs\n",
    "def char_tensor(string):\n",
    "    tensor = torch.zeros(len(string)).long()\n",
    "    for c in range(len(string)):\n",
    "        tensor[c] = all_characters.index(string[c])\n",
    "    return Variable(tensor)\n",
    "\n",
    "print(char_tensor('abcDEF'))"
   ]
  },
  {
   "cell_type": "markdown",
   "metadata": {},
   "source": [
    "Finally we can assemble a pair of input and target tensors for training, from a random chunk. The input will be all characters *up to the last*, and the target will be all characters *from the first*. So if our chunk is \"abc\" the input will correspond to \"ab\" while the target is \"bc\"."
   ]
  },
  {
   "cell_type": "code",
   "execution_count": 36,
   "metadata": {},
   "outputs": [],
   "source": [
    "def random_training_set():    \n",
    "    chunk = random_chunk()\n",
    "    inp = char_tensor(chunk[:-1])\n",
    "    target = char_tensor(chunk[1:])\n",
    "    return inp, target"
   ]
  },
  {
   "cell_type": "markdown",
   "metadata": {},
   "source": [
    "# Evaluating\n",
    "\n",
    "To evaluate the network we will feed one character at a time, use the outputs of the network as a probability distribution for the next character, and repeat. To start generation we pass a priming string to start building up the hidden state, from which we then generate one character at a time."
   ]
  },
  {
   "cell_type": "code",
   "execution_count": 37,
   "metadata": {},
   "outputs": [],
   "source": [
    "def evaluate(prime_str='A', predict_len=100, temperature=0.8):\n",
    "    hidden = decoder.init_hidden()\n",
    "    prime_input = char_tensor(prime_str)\n",
    "    predicted = prime_str\n",
    "\n",
    "    # Use priming string to \"build up\" hidden state\n",
    "    for p in range(len(prime_str) - 1):\n",
    "        _, hidden = decoder(prime_input[p], hidden)\n",
    "    inp = prime_input[-1]\n",
    "    \n",
    "    for p in range(predict_len):\n",
    "        output, hidden = decoder(inp, hidden)\n",
    "        \n",
    "        # Sample from the network as a multinomial distribution\n",
    "        output_dist = output.data.view(-1).div(temperature).exp()\n",
    "        top_i = torch.multinomial(output_dist, 1)[0]\n",
    "        \n",
    "        # Add predicted character to string and use as next input\n",
    "        predicted_char = all_characters[top_i]\n",
    "        predicted += predicted_char\n",
    "        inp = char_tensor(predicted_char)\n",
    "\n",
    "    return predicted"
   ]
  },
  {
   "cell_type": "markdown",
   "metadata": {},
   "source": [
    "# Training"
   ]
  },
  {
   "cell_type": "markdown",
   "metadata": {},
   "source": [
    "A helper to print the amount of time passed:"
   ]
  },
  {
   "cell_type": "code",
   "execution_count": 38,
   "metadata": {},
   "outputs": [],
   "source": [
    "import time, math\n",
    "\n",
    "def time_since(since):\n",
    "    s = time.time() - since\n",
    "    m = math.floor(s / 60)\n",
    "    s -= m * 60\n",
    "    return '%dm %ds' % (m, s)"
   ]
  },
  {
   "cell_type": "markdown",
   "metadata": {},
   "source": [
    "The main training function"
   ]
  },
  {
   "cell_type": "code",
   "execution_count": 39,
   "metadata": {},
   "outputs": [],
   "source": [
    "# def train(inp, target):\n",
    "#     hidden = decoder.init_hidden()\n",
    "#     decoder.zero_grad()\n",
    "#     loss = 0\n",
    "\n",
    "#     for c in range(chunk_len):\n",
    "#         output, hidden = decoder(inp[c], hidden)\n",
    "#         loss += criterion(output, target[c])\n",
    "\n",
    "#     loss.backward()\n",
    "#     decoder_optimizer.step()\n",
    "\n",
    "#     return loss.data[0] / chunk_len\n",
    "\n",
    "def train(inp, target):\n",
    "    hidden = decoder.init_hidden()\n",
    "    decoder.zero_grad()\n",
    "    loss = 0\n",
    "\n",
    "    for c in range(chunk_len):\n",
    "        output, hidden = decoder(inp[c], hidden)\n",
    "        loss += criterion(output, target[c].unsqueeze(0))\n",
    "\n",
    "    loss.backward()\n",
    "    decoder_optimizer.step()\n",
    "\n",
    "    return loss.item() / chunk_len"
   ]
  },
  {
   "cell_type": "markdown",
   "metadata": {},
   "source": [
    "Then we define the training parameters, instantiate the model, and start training:"
   ]
  },
  {
   "cell_type": "code",
   "execution_count": 40,
   "metadata": {
    "scrolled": false
   },
   "outputs": [
    {
     "name": "stdout",
     "output_type": "stream",
     "text": [
      "[0m 13s (100 5%) 2.1292]\n",
      "Whind that me mwint.\n",
      "Yousg!\n",
      "Hof aw to dis feavk and warim thine thint wan wonds, thind ad\n",
      "Neat thite c \n",
      "\n",
      "[0m 25s (200 10%) 2.2271]\n",
      "Wheper's am in the darst what stir:\n",
      "And the the thhar to the,\n",
      "Hally Voodf thour to with chave for hist \n",
      "\n",
      "[0m 37s (300 15%) 2.1396]\n",
      "Wheme the the maw stave a me bake aly vell!\n",
      "The say, say sattath liet,\n",
      "Whor pise peard thoother that a \n",
      "\n",
      "[0m 49s (400 20%) 2.0825]\n",
      "Whar Lrie nothe to well off you, he are anod the ay.\n",
      "\n",
      "DUKENENTIO:\n",
      "He kinder to do is goostuse sewer wn \n",
      "\n",
      "[1m 1s (500 25%) 1.7780]\n",
      "Whers\n",
      "And will you ther and pear to now the gurpan, that lak'd ceco in are you siciught.\n",
      "\n",
      "PRESTROS:\n",
      "Mi \n",
      "\n",
      "[1m 13s (600 30%) 1.7143]\n",
      "Why for bove made hith come mane thear the seamoul:\n",
      "Then the fier more the have their not deesty'\n",
      "And  \n",
      "\n",
      "[1m 25s (700 35%) 1.8169]\n",
      "Wheren a wiclaren'd ame larsse, I apapiven all, for actain thou did\n",
      "So rove me mast Cull tent I him, t \n",
      "\n",
      "[1m 38s (800 40%) 1.7999]\n",
      "Why charders in my may priest ine bus\n",
      "Thou bes to to the decomman abding in to crucent me's device.\n",
      "\n",
      "L \n",
      "\n",
      "[1m 50s (900 45%) 2.0613]\n",
      "Where the some brown I for anstress is and that is any and hearth ampost\n",
      "And from the nerving there me \n",
      "\n",
      "[2m 1s (1000 50%) 1.8987]\n",
      "Which exack.\n",
      "\n",
      "LUEED:\n",
      "For me sear, now veantterd?\n",
      "Tell tearts the would he asall grething,\n",
      "The leign ho \n",
      "\n",
      "[2m 15s (1100 55%) 1.9481]\n",
      "Whoush, my lits is the will to frart\n",
      "With a play how hith sing the maded any tither the browe\n",
      "To for w \n",
      "\n",
      "[2m 28s (1200 60%) 1.8949]\n",
      "Where good is the devralon,\n",
      "The furderer ill the me to jurwands of your whollband!\n",
      "\n",
      "City it pised and  \n",
      "\n",
      "[2m 42s (1300 65%) 1.7689]\n",
      "Whild god.\n",
      "\n",
      "BENVON:\n",
      "In petter lord, some it be the I and it it and care\n",
      "In the bonles: weack, by parsi \n",
      "\n",
      "[2m 55s (1400 70%) 1.6912]\n",
      "Whild Bunce:\n",
      "Good am was so not swayed or of that ulgart\n",
      "And the the nands death ontesten'ded asted pa \n",
      "\n",
      "[3m 7s (1500 75%) 1.9310]\n",
      "Whom urnot\n",
      "That in have sevend hath urpost tome:\n",
      "With us stun gould be come it have the baight,\n",
      "That h \n",
      "\n",
      "[3m 20s (1600 80%) 1.8843]\n",
      "Whis partion indeod,\n",
      "Call then regiven then the stack make you?\n",
      "\n",
      "EXVence a\n",
      "Pewaral deed that I of your \n",
      "\n",
      "[3m 32s (1700 85%) 1.9324]\n",
      "Where them I am the die so-forth yought say but dead the freate parten of that coate that bor Lord\n",
      "Tha \n",
      "\n",
      "[3m 46s (1800 90%) 1.8036]\n",
      "Whear and and must with jurse\n",
      "That that daught our gectine?\n",
      "O, hir so dier me; below;\n",
      "Burse we brokn o \n",
      "\n",
      "[3m 59s (1900 95%) 1.7025]\n",
      "What nowncey.\n",
      "\n",
      "POROKE:\n",
      "He will thou worst comming to pooncy ame.\n",
      "\n",
      "LEONTES:\n",
      "For and rignsed off\n",
      "Lament, \n",
      "\n",
      "[4m 12s (2000 100%) 1.7596]\n",
      "What with to then, what wet thente.\n",
      "\n",
      "LUCENIO:\n",
      "Have ming condess such and vicelf of the revels thou to  \n",
      "\n"
     ]
    },
    {
     "data": {
      "text/plain": [
       "<Figure size 640x480 with 0 Axes>"
      ]
     },
     "execution_count": 40,
     "metadata": {},
     "output_type": "execute_result"
    },
    {
     "data": {
      "text/plain": [
       "[<matplotlib.lines.Line2D at 0x26d54ca1280>]"
      ]
     },
     "execution_count": 40,
     "metadata": {},
     "output_type": "execute_result"
    },
    {
     "data": {
      "text/plain": [
       "Text(0.5, 0, 'Epoch')"
      ]
     },
     "execution_count": 40,
     "metadata": {},
     "output_type": "execute_result"
    },
    {
     "data": {
      "text/plain": [
       "Text(0, 0.5, 'Perplexity')"
      ]
     },
     "execution_count": 40,
     "metadata": {},
     "output_type": "execute_result"
    },
    {
     "data": {
      "image/png": "[encoded data removed]",
      "text/plain": [
       "<Figure size 640x480 with 1 Axes>"
      ]
     },
     "metadata": {},
     "output_type": "display_data"
    }
   ],
   "source": [
    "import math\n",
    "import matplotlib.pyplot as plt\n",
    "\n",
    "n_epochs = 2000\n",
    "print_every = 100\n",
    "plot_every = 10\n",
    "hidden_size = 100\n",
    "n_layers = 1\n",
    "lr = 0.005\n",
    "\n",
    "decoder = RNN(n_characters, hidden_size, n_characters, n_layers)\n",
    "decoder_optimizer = torch.optim.Adam(decoder.parameters(), lr=lr)\n",
    "criterion = nn.CrossEntropyLoss()\n",
    "\n",
    "start = time.time()\n",
    "all_losses = []\n",
    "perplexities = []   # added line\n",
    "loss_avg = 0\n",
    "\n",
    "for epoch in range(1, n_epochs + 1):\n",
    "    loss = train(*random_training_set())       \n",
    "    loss_avg += loss\n",
    "\n",
    "    if epoch % print_every == 0:\n",
    "        print('[%s (%d %d%%) %.4f]' % (time_since(start), epoch, epoch / n_epochs * 100, loss))\n",
    "        print(evaluate('Wh', 100), '\\n')\n",
    "\n",
    "    if epoch % plot_every == 0:\n",
    "        all_losses.append(loss_avg / plot_every)\n",
    "        perplexity = math.exp(loss_avg / plot_every)   # calculate perplexity\n",
    "        perplexities.append(perplexity)                # add perplexity to list\n",
    "        loss_avg = 0\n",
    "\n",
    "plt.figure()\n",
    "plt.plot(perplexities)\n",
    "plt.xlabel('Epoch')\n",
    "plt.ylabel('Perplexity')\n",
    "plt.show()\n"
   ]
  },
  {
   "cell_type": "markdown",
   "metadata": {},
   "source": [
    "# Task 2\n",
    "\n"
   ]
  },
  {
   "cell_type": "code",
   "execution_count": 50,
   "metadata": {},
   "outputs": [
    {
     "data": {
      "text/plain": [
       "RNN(\n",
       "  (encoder): Embedding(100, 100)\n",
       "  (gru): GRU(100, 100)\n",
       "  (decoder): Linear(in_features=100, out_features=100, bias=True)\n",
       ")"
      ]
     },
     "execution_count": 50,
     "metadata": {},
     "output_type": "execute_result"
    },
    {
     "name": "stdout",
     "output_type": "stream",
     "text": [
      "Prime:  t-0k=\n",
      "Generated:  t-0k=e\n",
      "To OF ANNENIUS:\n",
      "Will that what the, weet are when undelath.\n",
      "\n",
      "GLOUCESTER:\n",
      "While was to thy with tre\n",
      " ------ \n",
      "Prime:  5|9l1\n",
      "Generated:  5|9l1ess with their with plassus must,\n",
      "Romether see revecourth while not with foold but whispell fols;\n",
      "Wh\n",
      " ------ \n",
      "Prime:  RD9X%\n",
      "Generated:  RD9X%:\n",
      "Hand with the blowe, with theing in'ts valle throse\n",
      "Sake my with to Romeoth with dook elde the tim\n",
      " ------ \n"
     ]
    }
   ],
   "source": [
    "\n",
    "%config InlineBackend.figure_format = 'retina'\n",
    "%matplotlib inline\n",
    "%config InlineBackend.print_figure_kwargs = {'bbox_inches':None}\n",
    "%config InlineBackend.figure_format = 'svg'\n",
    "%config InlineBackend.rc = {'figure.figsize': (200.0, 10.0)}\n",
    "\n",
    "\n",
    "# set the model to evaluation mode\n",
    "decoder.eval()\n",
    "\n",
    "# generate and print 3 sequences\n",
    "for i in range(3):\n",
    "    prime_str = ''.join(random.choices(all_characters, k=5))\n",
    "    generated = evaluate(prime_str, predict_len=100)\n",
    "    print(\"Prime: \", prime_str)\n",
    "    print(\"Generated: \" , generated)\n",
    "    print(\" ------ \")\n"
   ]
  },
  {
   "cell_type": "markdown",
   "metadata": {},
   "source": [
    "# Task 3\n"
   ]
  },
  {
   "cell_type": "code",
   "execution_count": 51,
   "metadata": {},
   "outputs": [
    {
     "data": {
      "text/plain": [
       "RNN(\n",
       "  (encoder): Embedding(100, 100)\n",
       "  (gru): GRU(100, 100)\n",
       "  (decoder): Linear(in_features=100, out_features=100, bias=True)\n",
       ")"
      ]
     },
     "execution_count": 51,
     "metadata": {},
     "output_type": "execute_result"
    },
    {
     "name": "stdout",
     "output_type": "stream",
     "text": [
      "Prime:  The\n",
      "Generated:  The of where.\n",
      "\n",
      "Lord Andich:\n",
      "When's in natigaritienger ose soremis mine\n",
      "Of Anguiet, ate a was who gompat\n",
      " ------ \n",
      "Prime:  What is\n",
      "Generated:  What is musting thoo so,\n",
      "You to the elple nires with that will over phost clive\n",
      "We wad a mast duson of my m\n",
      " ------ \n",
      "Prime:  Shall I give\n",
      "Generated:  Shall I give to that\n",
      "Drid hath-up to math in mut tilet indom Nord,\n",
      "Let to to to sungle, not my with;\n",
      "I vils one \n",
      " ------ \n",
      "Prime:  X087hNYB BHN BYFVuhsdbs\n",
      "Generated:  X087hNYB BHN BYFVuhsdbs:\n",
      "Oes: he not with the with of York come well wheren.\n",
      "\n",
      "GLORES:\n",
      "I was prespible tended?\n",
      "Her powary st\n",
      " ------ \n"
     ]
    }
   ],
   "source": [
    "%config InlineBackend.figure_format = 'retina'\n",
    "%matplotlib inline\n",
    "%config InlineBackend.print_figure_kwargs = {'bbox_inches':None}\n",
    "%config InlineBackend.figure_format = 'svg'\n",
    "%config InlineBackend.rc = {'figure.figsize': (200.0, 10.0)}\n",
    "\n",
    "\n",
    "# Set the model to evaluation mode\n",
    "decoder.eval()\n",
    "\n",
    "# Generate sequences for each priming sequence\n",
    "for prime_str in ['The', 'What is', 'Shall I give', 'X087hNYB BHN BYFVuhsdbs']:\n",
    "    generated = evaluate(prime_str, predict_len=100)\n",
    "    print(\"Prime: \", prime_str)\n",
    "    print(\"Generated: \" , generated)\n",
    "    print(\" ------ \")\n"
   ]
  },
  {
   "cell_type": "markdown",
   "metadata": {},
   "source": [
    "#Plotting the Training Losses\n"
   ]
  },
  {
   "cell_type": "code",
   "execution_count": 31,
   "metadata": {},
   "outputs": [
    {
     "data": {
      "text/plain": [
       "<Figure size 640x480 with 0 Axes>"
      ]
     },
     "execution_count": 31,
     "metadata": {},
     "output_type": "execute_result"
    },
    {
     "data": {
      "text/plain": [
       "[<matplotlib.lines.Line2D at 0x26d5ec26070>]"
      ]
     },
     "execution_count": 31,
     "metadata": {},
     "output_type": "execute_result"
    },
    {
     "data": {
      "image/png": "[encoded data removed]",
      "text/plain": [
       "<Figure size 640x480 with 1 Axes>"
      ]
     },
     "metadata": {},
     "output_type": "display_data"
    }
   ],
   "source": [
    "import matplotlib.pyplot as plt\n",
    "import matplotlib.ticker as ticker\n",
    "%matplotlib inline\n",
    "\n",
    "plt.figure()\n",
    "plt.plot(all_losses)"
   ]
  },
  {
   "cell_type": "code",
   "execution_count": null,
   "metadata": {},
   "outputs": [],
   "source": []
  }
 ],
 "metadata": {
  "anaconda-cloud": {},
  "kernelspec": {
   "display_name": "Python 3 (ipykernel)",
   "language": "python",
   "name": "python3"
  },
  "language_info": {
   "codemirror_mode": {
    "name": "ipython",
    "version": 3
   },
   "file_extension": ".py",
   "mimetype": "text/x-python",
   "name": "python",
   "nbconvert_exporter": "python",
   "pygments_lexer": "ipython3",
   "version": "3.9.13"
  }
 },
 "nbformat": 4,
 "nbformat_minor": 1
}
