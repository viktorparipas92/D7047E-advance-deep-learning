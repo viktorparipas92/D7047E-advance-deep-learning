{
 "cells": [
  {
   "cell_type": "markdown",
   "id": "012db474-f68c-4778-82fe-ec00d263d1e5",
   "metadata": {},
   "source": [
    "# Pneumonia Detection with Chest X-ray Images"
   ]
  },
  {
   "cell_type": "code",
   "execution_count": null,
   "id": "5554672a-ce57-4062-892c-935f1169c6da",
   "metadata": {},
   "outputs": [],
   "source": []
  }
 ],
 "metadata": {
  "kernelspec": {
   "display_name": "Python 3 (ipykernel)",
   "language": "python",
   "name": "python3"
  },
  "language_info": {
   "codemirror_mode": {
    "name": "ipython",
    "version": 3
   },
   "file_extension": ".py",
   "mimetype": "text/x-python",
   "name": "python",
   "nbconvert_exporter": "python",
   "pygments_lexer": "ipython3",
   "version": "3.10.9"
  }
 },
 "nbformat": 4,
 "nbformat_minor": 5
}
