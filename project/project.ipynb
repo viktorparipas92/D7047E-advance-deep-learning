{
 "cells": [
  {
   "cell_type": "markdown",
   "id": "012db474-f68c-4778-82fe-ec00d263d1e5",
   "metadata": {},
   "source": [
    "# Pneumonia Detection with Chest X-ray Images"
   ]
  },
  {
   "cell_type": "markdown",
   "id": "63f72bd4-32d9-4376-b10f-5c2c009c6340",
   "metadata": {},
   "source": [
    "## Setup"
   ]
  },
  {
   "cell_type": "markdown",
   "id": "43c126f6-d5f9-4ba0-8ec7-1bd51c64216c",
   "metadata": {},
   "source": [
    "### Import libraries"
   ]
  },
  {
   "cell_type": "code",
   "execution_count": 1,
   "id": "14cd6eb1-fdb8-41f8-ad47-6e1ea8aa78ba",
   "metadata": {},
   "outputs": [],
   "source": [
    "import sys\n",
    "\n",
    "import torch\n",
    "import torchvision\n",
    "from torchvision.datasets import ImageFolder"
   ]
  },
  {
   "cell_type": "markdown",
   "id": "68daf55c-dfdf-442c-9f90-1de2bbf9ed6a",
   "metadata": {},
   "source": [
    "### Using GPU for training if available"
   ]
  },
  {
   "cell_type": "code",
   "execution_count": 2,
   "id": "5554672a-ce57-4062-892c-935f1169c6da",
   "metadata": {},
   "outputs": [
    {
     "name": "stdout",
     "output_type": "stream",
     "text": [
      "Python version: 3.11\n",
      "PyTorch version: 2.0.1\n",
      "Torchvision version: 0.15.2\n",
      "Using device: mps\n"
     ]
    }
   ],
   "source": [
    "print(f'Python version: {sys.version_info.major}.{sys.version_info.minor}')\n",
    "print(f'PyTorch version: {torch.__version__}')\n",
    "print(f'Torchvision version: {torchvision.__version__}')\n",
    "\n",
    "def get_device():\n",
    "    if torch.cuda.is_available():\n",
    "        device = torch.device('cuda:0')\n",
    "    elif torch.backends.mps.is_built():\n",
    "        device = torch.device('mps')\n",
    "    else:\n",
    "        device = torch.device('cpu')\n",
    "        \n",
    "    return device\n",
    "\n",
    "\n",
    "device = get_device()\n",
    "print(f'Using device: {device}')"
   ]
  },
  {
   "cell_type": "markdown",
   "id": "984107fb-6c26-4203-8828-98f67b02c1c8",
   "metadata": {},
   "source": [
    "## Exploring the dataset"
   ]
  },
  {
   "cell_type": "markdown",
   "id": "07f7b223-0585-49af-86c6-a0201d9ed4ba",
   "metadata": {},
   "source": [
    "### Loading the files"
   ]
  },
  {
   "cell_type": "code",
   "execution_count": 3,
   "id": "9329124a-cf7d-4e68-904d-999b4e44f889",
   "metadata": {
    "tags": []
   },
   "outputs": [],
   "source": [
    "# Dataset root URL\n",
    "# https://ltu.app.box.com/s/ywboito9frcx5w4c4mzrrrl4qf2rh9u3/'\n",
    "ROOT_FOLDER = 'dataset/'\n",
    "TRAINING_FOLDER = f'{ROOT_FOLDER}train/'\n",
    "VALIDATION_FOLDER = f'{ROOT_FOLDER}val/'\n",
    "TEST_FOLDER = f'{ROOT_FOLDER}test/'\n",
    "\n",
    "training_dataset = ImageFolder(root=TRAINING_FOLDER)\n",
    "validation_dataset = ImageFolder(root=VALIDATION_FOLDER)\n",
    "test_dataset = ImageFolder(root=TEST_FOLDER)\n"
   ]
  },
  {
   "cell_type": "code",
   "execution_count": 4,
   "id": "ba9b8edd-e72e-4a56-be51-de4339b01aa2",
   "metadata": {
    "tags": []
   },
   "outputs": [
    {
     "data": {
      "text/plain": [
       "5216"
      ]
     },
     "execution_count": 4,
     "metadata": {},
     "output_type": "execute_result"
    }
   ],
   "source": [
    "len(training_dataset)"
   ]
  },
  {
   "cell_type": "code",
   "execution_count": null,
   "id": "6424710f-3bee-41c2-930d-ddbf0e977750",
   "metadata": {},
   "outputs": [],
   "source": []
  }
 ],
 "metadata": {
  "kernelspec": {
   "display_name": "Python 3 (ipykernel)",
   "language": "python",
   "name": "python3"
  },
  "language_info": {
   "codemirror_mode": {
    "name": "ipython",
    "version": 3
   },
   "file_extension": ".py",
   "mimetype": "text/x-python",
   "name": "python",
   "nbconvert_exporter": "python",
   "pygments_lexer": "ipython3",
   "version": "3.11.3"
  }
 },
 "nbformat": 4,
 "nbformat_minor": 5
}
