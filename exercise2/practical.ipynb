{
 "cells": [
  {
   "cell_type": "code",
   "execution_count": 1,
   "outputs": [],
   "source": [
    "import torch\n",
    "from torch import nn, optim\n",
    "from torch.utils.data import DataLoader\n",
    "from torch.utils.tensorboard import SummaryWriter\n",
    "from torchvision import datasets, models, transforms"
   ],
   "metadata": {
    "collapsed": false,
    "pycharm": {
     "name": "#%%\n"
    }
   }
  },
  {
   "cell_type": "markdown",
   "source": [
    "GPU device if possible"
   ],
   "metadata": {
    "collapsed": false,
    "pycharm": {
     "name": "#%% md\n"
    }
   }
  },
  {
   "cell_type": "code",
   "execution_count": 16,
   "outputs": [],
   "source": [
    "device = torch.device(\n",
    "    'cuda' if torch.cuda.is_available()\n",
    "    else 'mps' if torch.backends.mps.is_available()\n",
    "    else 'cpu'\n",
    ")"
   ],
   "metadata": {
    "collapsed": false,
    "pycharm": {
     "name": "#%%\n"
    }
   }
  },
  {
   "cell_type": "markdown",
   "source": [
    "# Transfer learning on the CIFAR-10 dataset"
   ],
   "metadata": {
    "collapsed": false,
    "pycharm": {
     "name": "#%% md\n"
    }
   }
  },
  {
   "cell_type": "code",
   "execution_count": 3,
   "outputs": [],
   "source": [
    "# Hyperparameters\n",
    "learning_rate = 1e-4\n",
    "batch_size = 50\n",
    "NUM_EPOCHS = 10\n",
    "momentum = 0.9\n",
    "loss_function = nn.CrossEntropyLoss()\n",
    "\n",
    "# Architecture\n",
    "NUM_CLASSES = 10\n"
   ],
   "metadata": {
    "collapsed": false,
    "pycharm": {
     "name": "#%%\n"
    }
   }
  },
  {
   "cell_type": "code",
   "execution_count": 5,
   "outputs": [
    {
     "name": "stdout",
     "output_type": "stream",
     "text": [
      "Files already downloaded and verified\n",
      "Files already downloaded and verified\n"
     ]
    }
   ],
   "source": [
    "RESIZE_SIZE = 70\n",
    "CROP_TO_SIZE = 64\n",
    "\n",
    "transform = transforms.Compose([\n",
    "    transforms.Resize((RESIZE_SIZE, RESIZE_SIZE)),\n",
    "    transforms.RandomCrop((CROP_TO_SIZE, CROP_TO_SIZE)),\n",
    "    transforms.ToTensor(),\n",
    "])\n",
    "\n",
    "\n",
    "cifar_10_training_data = datasets.CIFAR10(\n",
    "    root='./data', train=True, download=True, transform=transform)\n",
    "cifar_10_test_data = datasets.CIFAR10(\n",
    "    root='./data', train=False, download=True, transform=transform)\n",
    "\n",
    "train_loader = DataLoader(\n",
    "    cifar_10_training_data, batch_size=batch_size, shuffle=True, num_workers=2\n",
    ")\n",
    "test_loader = DataLoader(\n",
    "    cifar_10_test_data, batch_size=batch_size, shuffle=False, num_workers=2\n",
    ")"
   ],
   "metadata": {
    "collapsed": false,
    "pycharm": {
     "name": "#%%\n"
    }
   }
  },
  {
   "cell_type": "markdown",
   "source": [
    "Training-Testing Functions"
   ],
   "metadata": {
    "collapsed": false,
    "pycharm": {
     "name": "#%% md\n"
    }
   }
  },
  {
   "cell_type": "code",
   "execution_count": 4,
   "outputs": [],
   "source": [
    "writer = SummaryWriter()"
   ],
   "metadata": {
    "collapsed": false,
    "pycharm": {
     "name": "#%%\n"
    }
   }
  },
  {
   "cell_type": "code",
   "execution_count": 5,
   "outputs": [],
   "source": [
    "BATCH_TO_PRINT = 100"
   ],
   "metadata": {
    "collapsed": false,
    "pycharm": {
     "name": "#%%\n"
    }
   }
  },
  {
   "cell_type": "code",
   "execution_count": 6,
   "outputs": [],
   "source": [
    "def train_model(data_loader, network, optimizer, criterion, num_epochs=NUM_EPOCHS):\n",
    "    network = network.to(device)\n",
    "    network.train()\n",
    "    for epoch in range(num_epochs):\n",
    "        running_loss = epoch_loss = 0.\n",
    "        for i, data in enumerate(data_loader):\n",
    "            inputs, labels = data[0].to(device), data[1].to(device)\n",
    "            optimizer.zero_grad()\n",
    "            outputs = network(inputs)\n",
    "            loss = criterion(outputs, labels)\n",
    "            loss.backward()\n",
    "            optimizer.step()\n",
    "            running_loss += loss.item()\n",
    "            epoch_loss += loss.item()\n",
    "\n",
    "            if i % BATCH_TO_PRINT == (BATCH_TO_PRINT - 1):\n",
    "                print('[Epoch %d, Batch %5d] loss: %.3f' %\n",
    "                      (epoch + 1, i + 1, running_loss / BATCH_TO_PRINT))\n",
    "                running_loss = 0.0\n",
    "\n",
    "        writer.add_scalar(f'Loss/train:', epoch_loss / len(data_loader), epoch)\n",
    "        print(f\"[{epoch + 1}] loss: {epoch_loss / len(data_loader):.3f}\")\n",
    "\n",
    "    writer.flush()\n",
    "    return network\n",
    "\n",
    "\n",
    "def test_model(data_loader, network):\n",
    "    network = network.to(device)\n",
    "    network.eval()\n",
    "    correct = 0\n",
    "    total = 0\n",
    "    with torch.no_grad():\n",
    "        for data in data_loader:\n",
    "            images, labels = data[0].to(device), data[1].to(device)\n",
    "            outputs = network(images)\n",
    "            _, predicted = torch.max(outputs.data, 1)\n",
    "            total += labels.size(0)\n",
    "            correct += (predicted == labels).sum().item()\n",
    "\n",
    "    print(F'Test accuracy: {(100 * correct / total):.2f}%')"
   ],
   "metadata": {
    "collapsed": false,
    "pycharm": {
     "name": "#%%\n"
    }
   }
  },
  {
   "cell_type": "markdown",
   "source": [
    "## Fine-tuning the model"
   ],
   "metadata": {
    "collapsed": false,
    "pycharm": {
     "name": "#%% md\n"
    }
   }
  },
  {
   "cell_type": "code",
   "execution_count": 9,
   "outputs": [],
   "source": [
    "alexnet = models.alexnet(weights='AlexNet_Weights.DEFAULT')\n",
    "alexnet.classifier.add_module('6', nn.Linear(4096, NUM_CLASSES))\n",
    "\n",
    "optimizer = optim.SGD(alexnet.parameters(), lr=learning_rate, momentum=momentum)"
   ],
   "metadata": {
    "collapsed": false,
    "pycharm": {
     "name": "#%%\n"
    }
   }
  },
  {
   "cell_type": "code",
   "execution_count": 9,
   "outputs": [
    {
     "name": "stdout",
     "output_type": "stream",
     "text": [
      "[Epoch 1, Batch   100] loss: 1.852\n",
      "[Epoch 1, Batch   200] loss: 1.438\n",
      "[Epoch 1, Batch   300] loss: 1.317\n",
      "[Epoch 1, Batch   400] loss: 1.249\n",
      "[Epoch 1, Batch   500] loss: 1.214\n",
      "[Epoch 1, Batch   600] loss: 1.202\n",
      "[Epoch 1, Batch   700] loss: 1.130\n",
      "[Epoch 1, Batch   800] loss: 1.106\n",
      "[Epoch 1, Batch   900] loss: 1.081\n",
      "[Epoch 1, Batch  1000] loss: 1.057\n",
      "[1] loss: 1.264\n",
      "[Epoch 2, Batch   100] loss: 1.062\n",
      "[Epoch 2, Batch   200] loss: 1.001\n",
      "[Epoch 2, Batch   300] loss: 1.005\n",
      "[Epoch 2, Batch   400] loss: 0.998\n",
      "[Epoch 2, Batch   500] loss: 0.995\n",
      "[Epoch 2, Batch   600] loss: 0.950\n",
      "[Epoch 2, Batch   700] loss: 0.942\n",
      "[Epoch 2, Batch   800] loss: 0.922\n",
      "[Epoch 2, Batch   900] loss: 0.927\n",
      "[Epoch 2, Batch  1000] loss: 0.936\n",
      "[2] loss: 0.974\n",
      "[Epoch 3, Batch   100] loss: 0.900\n",
      "[Epoch 3, Batch   200] loss: 0.906\n",
      "[Epoch 3, Batch   300] loss: 0.869\n",
      "[Epoch 3, Batch   400] loss: 0.889\n",
      "[Epoch 3, Batch   500] loss: 0.867\n",
      "[Epoch 3, Batch   600] loss: 0.878\n",
      "[Epoch 3, Batch   700] loss: 0.883\n",
      "[Epoch 3, Batch   800] loss: 0.855\n",
      "[Epoch 3, Batch   900] loss: 0.861\n",
      "[Epoch 3, Batch  1000] loss: 0.862\n",
      "[3] loss: 0.877\n",
      "[Epoch 4, Batch   100] loss: 0.814\n",
      "[Epoch 4, Batch   200] loss: 0.826\n",
      "[Epoch 4, Batch   300] loss: 0.820\n",
      "[Epoch 4, Batch   400] loss: 0.832\n",
      "[Epoch 4, Batch   500] loss: 0.825\n",
      "[Epoch 4, Batch   600] loss: 0.797\n",
      "[Epoch 4, Batch   700] loss: 0.828\n",
      "[Epoch 4, Batch   800] loss: 0.800\n",
      "[Epoch 4, Batch   900] loss: 0.774\n",
      "[Epoch 4, Batch  1000] loss: 0.828\n",
      "[4] loss: 0.814\n",
      "[Epoch 5, Batch   100] loss: 0.760\n",
      "[Epoch 5, Batch   200] loss: 0.785\n",
      "[Epoch 5, Batch   300] loss: 0.773\n",
      "[Epoch 5, Batch   400] loss: 0.755\n",
      "[Epoch 5, Batch   500] loss: 0.771\n",
      "[Epoch 5, Batch   600] loss: 0.748\n",
      "[Epoch 5, Batch   700] loss: 0.767\n",
      "[Epoch 5, Batch   800] loss: 0.771\n",
      "[Epoch 5, Batch   900] loss: 0.758\n",
      "[Epoch 5, Batch  1000] loss: 0.759\n",
      "[5] loss: 0.765\n",
      "[Epoch 6, Batch   100] loss: 0.732\n",
      "[Epoch 6, Batch   200] loss: 0.706\n",
      "[Epoch 6, Batch   300] loss: 0.740\n",
      "[Epoch 6, Batch   400] loss: 0.725\n",
      "[Epoch 6, Batch   500] loss: 0.731\n",
      "[Epoch 6, Batch   600] loss: 0.722\n",
      "[Epoch 6, Batch   700] loss: 0.722\n",
      "[Epoch 6, Batch   800] loss: 0.736\n",
      "[Epoch 6, Batch   900] loss: 0.735\n",
      "[Epoch 6, Batch  1000] loss: 0.741\n",
      "[6] loss: 0.729\n",
      "[Epoch 7, Batch   100] loss: 0.689\n",
      "[Epoch 7, Batch   200] loss: 0.700\n",
      "[Epoch 7, Batch   300] loss: 0.701\n",
      "[Epoch 7, Batch   400] loss: 0.694\n",
      "[Epoch 7, Batch   500] loss: 0.698\n",
      "[Epoch 7, Batch   600] loss: 0.703\n",
      "[Epoch 7, Batch   700] loss: 0.711\n",
      "[Epoch 7, Batch   800] loss: 0.703\n",
      "[Epoch 7, Batch   900] loss: 0.694\n",
      "[Epoch 7, Batch  1000] loss: 0.696\n",
      "[7] loss: 0.699\n",
      "[Epoch 8, Batch   100] loss: 0.678\n",
      "[Epoch 8, Batch   200] loss: 0.678\n",
      "[Epoch 8, Batch   300] loss: 0.669\n",
      "[Epoch 8, Batch   400] loss: 0.685\n",
      "[Epoch 8, Batch   500] loss: 0.657\n",
      "[Epoch 8, Batch   600] loss: 0.643\n",
      "[Epoch 8, Batch   700] loss: 0.686\n",
      "[Epoch 8, Batch   800] loss: 0.685\n",
      "[Epoch 8, Batch   900] loss: 0.691\n",
      "[Epoch 8, Batch  1000] loss: 0.663\n",
      "[8] loss: 0.673\n",
      "[Epoch 9, Batch   100] loss: 0.656\n",
      "[Epoch 9, Batch   200] loss: 0.654\n",
      "[Epoch 9, Batch   300] loss: 0.638\n",
      "[Epoch 9, Batch   400] loss: 0.661\n",
      "[Epoch 9, Batch   500] loss: 0.632\n",
      "[Epoch 9, Batch   600] loss: 0.661\n",
      "[Epoch 9, Batch   700] loss: 0.655\n",
      "[Epoch 9, Batch   800] loss: 0.615\n",
      "[Epoch 9, Batch   900] loss: 0.645\n",
      "[Epoch 9, Batch  1000] loss: 0.670\n",
      "[9] loss: 0.649\n",
      "[Epoch 10, Batch   100] loss: 0.632\n",
      "[Epoch 10, Batch   200] loss: 0.632\n",
      "[Epoch 10, Batch   300] loss: 0.643\n",
      "[Epoch 10, Batch   400] loss: 0.633\n",
      "[Epoch 10, Batch   500] loss: 0.636\n",
      "[Epoch 10, Batch   600] loss: 0.626\n",
      "[Epoch 10, Batch   700] loss: 0.626\n",
      "[Epoch 10, Batch   800] loss: 0.611\n",
      "[Epoch 10, Batch   900] loss: 0.620\n",
      "[Epoch 10, Batch  1000] loss: 0.632\n",
      "[10] loss: 0.629\n"
     ]
    }
   ],
   "source": [
    "trained_network = train_model(train_loader, alexnet, optimizer, loss_function)\n",
    "object_to_save = {\n",
    "    'model_state_dict': trained_network.state_dict(),\n",
    "    'optimizer_state_dict': optimizer.state_dict(),\n",
    "}\n",
    "torch.save(object_to_save, 'alexnet-fine-tuned-cifar-10.pt')"
   ],
   "metadata": {
    "collapsed": false,
    "pycharm": {
     "name": "#%%\n"
    }
   }
  },
  {
   "cell_type": "code",
   "execution_count": 10,
   "outputs": [
    {
     "name": "stdout",
     "output_type": "stream",
     "text": [
      "Test accuracy: 76.18%\n"
     ]
    }
   ],
   "source": [
    "test = test_model(test_loader, trained_network)"
   ],
   "metadata": {
    "collapsed": false,
    "pycharm": {
     "name": "#%%\n"
    }
   }
  },
  {
   "cell_type": "markdown",
   "source": [
    "## Feature extraction"
   ],
   "metadata": {
    "collapsed": false,
    "pycharm": {
     "name": "#%% md\n"
    }
   }
  },
  {
   "cell_type": "code",
   "execution_count": 11,
   "outputs": [
    {
     "name": "stdout",
     "output_type": "stream",
     "text": [
      "[Epoch 1, Batch   100] loss: 1.880\n",
      "[Epoch 1, Batch   200] loss: 1.500\n",
      "[Epoch 1, Batch   300] loss: 1.457\n",
      "[Epoch 1, Batch   400] loss: 1.379\n",
      "[Epoch 1, Batch   500] loss: 1.405\n",
      "[Epoch 1, Batch   600] loss: 1.368\n",
      "[Epoch 1, Batch   700] loss: 1.365\n",
      "[Epoch 1, Batch   800] loss: 1.334\n",
      "[Epoch 1, Batch   900] loss: 1.338\n",
      "[Epoch 1, Batch  1000] loss: 1.302\n",
      "[1] loss: 1.433\n",
      "[Epoch 2, Batch   100] loss: 1.313\n",
      "[Epoch 2, Batch   200] loss: 1.293\n",
      "[Epoch 2, Batch   300] loss: 1.294\n",
      "[Epoch 2, Batch   400] loss: 1.266\n",
      "[Epoch 2, Batch   500] loss: 1.277\n",
      "[Epoch 2, Batch   600] loss: 1.275\n",
      "[Epoch 2, Batch   700] loss: 1.272\n",
      "[Epoch 2, Batch   800] loss: 1.276\n",
      "[Epoch 2, Batch   900] loss: 1.268\n",
      "[Epoch 2, Batch  1000] loss: 1.264\n",
      "[2] loss: 1.280\n",
      "[Epoch 3, Batch   100] loss: 1.262\n",
      "[Epoch 3, Batch   200] loss: 1.223\n",
      "[Epoch 3, Batch   300] loss: 1.233\n",
      "[Epoch 3, Batch   400] loss: 1.233\n",
      "[Epoch 3, Batch   500] loss: 1.251\n",
      "[Epoch 3, Batch   600] loss: 1.235\n",
      "[Epoch 3, Batch   700] loss: 1.224\n",
      "[Epoch 3, Batch   800] loss: 1.259\n",
      "[Epoch 3, Batch   900] loss: 1.229\n",
      "[Epoch 3, Batch  1000] loss: 1.196\n",
      "[3] loss: 1.235\n",
      "[Epoch 4, Batch   100] loss: 1.221\n",
      "[Epoch 4, Batch   200] loss: 1.231\n",
      "[Epoch 4, Batch   300] loss: 1.198\n",
      "[Epoch 4, Batch   400] loss: 1.214\n",
      "[Epoch 4, Batch   500] loss: 1.229\n",
      "[Epoch 4, Batch   600] loss: 1.197\n",
      "[Epoch 4, Batch   700] loss: 1.203\n",
      "[Epoch 4, Batch   800] loss: 1.161\n",
      "[Epoch 4, Batch   900] loss: 1.193\n",
      "[Epoch 4, Batch  1000] loss: 1.201\n",
      "[4] loss: 1.205\n",
      "[Epoch 5, Batch   100] loss: 1.182\n",
      "[Epoch 5, Batch   200] loss: 1.175\n",
      "[Epoch 5, Batch   300] loss: 1.177\n",
      "[Epoch 5, Batch   400] loss: 1.179\n",
      "[Epoch 5, Batch   500] loss: 1.186\n",
      "[Epoch 5, Batch   600] loss: 1.207\n",
      "[Epoch 5, Batch   700] loss: 1.143\n",
      "[Epoch 5, Batch   800] loss: 1.201\n",
      "[Epoch 5, Batch   900] loss: 1.169\n",
      "[Epoch 5, Batch  1000] loss: 1.198\n",
      "[5] loss: 1.182\n",
      "[Epoch 6, Batch   100] loss: 1.159\n",
      "[Epoch 6, Batch   200] loss: 1.164\n",
      "[Epoch 6, Batch   300] loss: 1.182\n",
      "[Epoch 6, Batch   400] loss: 1.170\n",
      "[Epoch 6, Batch   500] loss: 1.202\n",
      "[Epoch 6, Batch   600] loss: 1.149\n",
      "[Epoch 6, Batch   700] loss: 1.166\n",
      "[Epoch 6, Batch   800] loss: 1.157\n",
      "[Epoch 6, Batch   900] loss: 1.154\n",
      "[Epoch 6, Batch  1000] loss: 1.163\n",
      "[6] loss: 1.167\n",
      "[Epoch 7, Batch   100] loss: 1.134\n",
      "[Epoch 7, Batch   200] loss: 1.167\n",
      "[Epoch 7, Batch   300] loss: 1.134\n",
      "[Epoch 7, Batch   400] loss: 1.149\n",
      "[Epoch 7, Batch   500] loss: 1.154\n",
      "[Epoch 7, Batch   600] loss: 1.154\n",
      "[Epoch 7, Batch   700] loss: 1.156\n",
      "[Epoch 7, Batch   800] loss: 1.159\n",
      "[Epoch 7, Batch   900] loss: 1.138\n",
      "[Epoch 7, Batch  1000] loss: 1.151\n",
      "[7] loss: 1.150\n",
      "[Epoch 8, Batch   100] loss: 1.142\n",
      "[Epoch 8, Batch   200] loss: 1.142\n",
      "[Epoch 8, Batch   300] loss: 1.146\n",
      "[Epoch 8, Batch   400] loss: 1.140\n",
      "[Epoch 8, Batch   500] loss: 1.127\n",
      "[Epoch 8, Batch   600] loss: 1.158\n",
      "[Epoch 8, Batch   700] loss: 1.137\n",
      "[Epoch 8, Batch   800] loss: 1.157\n",
      "[Epoch 8, Batch   900] loss: 1.137\n",
      "[Epoch 8, Batch  1000] loss: 1.129\n",
      "[8] loss: 1.141\n",
      "[Epoch 9, Batch   100] loss: 1.110\n",
      "[Epoch 9, Batch   200] loss: 1.155\n",
      "[Epoch 9, Batch   300] loss: 1.127\n",
      "[Epoch 9, Batch   400] loss: 1.116\n",
      "[Epoch 9, Batch   500] loss: 1.101\n",
      "[Epoch 9, Batch   600] loss: 1.125\n",
      "[Epoch 9, Batch   700] loss: 1.161\n",
      "[Epoch 9, Batch   800] loss: 1.115\n",
      "[Epoch 9, Batch   900] loss: 1.136\n",
      "[Epoch 9, Batch  1000] loss: 1.127\n",
      "[9] loss: 1.127\n",
      "[Epoch 10, Batch   100] loss: 1.103\n",
      "[Epoch 10, Batch   200] loss: 1.105\n",
      "[Epoch 10, Batch   300] loss: 1.112\n",
      "[Epoch 10, Batch   400] loss: 1.126\n",
      "[Epoch 10, Batch   500] loss: 1.139\n",
      "[Epoch 10, Batch   600] loss: 1.135\n",
      "[Epoch 10, Batch   700] loss: 1.128\n",
      "[Epoch 10, Batch   800] loss: 1.113\n",
      "[Epoch 10, Batch   900] loss: 1.120\n",
      "[Epoch 10, Batch  1000] loss: 1.131\n",
      "[10] loss: 1.121\n"
     ]
    }
   ],
   "source": [
    "alexnet = models.alexnet(weights='AlexNet_Weights.DEFAULT')\n",
    "\n",
    "# Freeze all the layers in the feature extractor\n",
    "for param in alexnet.features.parameters():\n",
    "    param.requires_grad = False\n",
    "\n",
    "alexnet.classifier.add_module('6', nn.Linear(4096, NUM_CLASSES))\n",
    "\n",
    "optimizer = optim.SGD(alexnet.parameters(), lr=learning_rate, momentum=momentum)\n",
    "trained_network = train_model(train_loader, alexnet, optimizer, loss_function)\n",
    "object_to_save = {\n",
    "    'model_state_dict': trained_network.state_dict(),\n",
    "    'optimizer_state_dict': optimizer.state_dict(),\n",
    "}\n",
    "torch.save(object_to_save, 'alexnet-feature-extracted-cifar-10.pt')"
   ],
   "metadata": {
    "collapsed": false,
    "pycharm": {
     "name": "#%%\n"
    }
   }
  },
  {
   "cell_type": "code",
   "execution_count": 12,
   "outputs": [
    {
     "name": "stdout",
     "output_type": "stream",
     "text": [
      "Test accuracy: 62.35%\n"
     ]
    }
   ],
   "source": [
    "test_model(test_loader, trained_network)"
   ],
   "metadata": {
    "collapsed": false,
    "pycharm": {
     "name": "#%%\n"
    }
   }
  },
  {
   "cell_type": "markdown",
   "source": [
    "# Transfer learning from MNIST to SVHN"
   ],
   "metadata": {
    "collapsed": false,
    "pycharm": {
     "name": "#%% md\n"
    }
   }
  },
  {
   "cell_type": "code",
   "execution_count": 7,
   "outputs": [],
   "source": [
    "MNIST_IMAGE_SIZE = 28\n",
    "\n",
    "num_input_channels = 1\n",
    "num_output_classes = 10\n",
    "\n",
    "num_conv1_channels = 32\n",
    "conv_kernel_size = 3\n",
    "conv_stride = 1\n",
    "conv_padding = 1\n",
    "pool_kernel_size = 2\n",
    "num_conv2_channels = 64\n",
    "\n",
    "fc1_output_size = 128\n",
    "\n",
    "dropout_rate = 0.25\n",
    "\n",
    "class CNN(nn.Module):\n",
    "    def __init__(self):\n",
    "        super().__init__()\n",
    "        self.conv1 = nn.Conv2d(\n",
    "            in_channels=num_input_channels,\n",
    "            out_channels=num_conv1_channels,\n",
    "            kernel_size=conv_kernel_size,\n",
    "            stride=conv_stride,\n",
    "            padding=conv_padding,\n",
    "        )\n",
    "        self.conv2 = nn.Conv2d(\n",
    "            in_channels=num_conv1_channels,\n",
    "            out_channels=num_conv2_channels,\n",
    "            kernel_size=conv_kernel_size,\n",
    "            stride=conv_stride,\n",
    "            padding=conv_padding,\n",
    "        )\n",
    "        self.relu = nn.ReLU()\n",
    "        self.max_pool = nn.MaxPool2d(kernel_size=pool_kernel_size)\n",
    "        self.dropout = nn.Dropout(dropout_rate)\n",
    "        self.fc1 = nn.Linear(\n",
    "            num_conv2_channels * MNIST_IMAGE_SIZE**2 // pool_kernel_size**4,\n",
    "            fc1_output_size,\n",
    "        )\n",
    "        self.fc2 = nn.Linear(fc1_output_size, num_output_classes)\n",
    "\n",
    "    def forward(self, x):\n",
    "        x = self.conv1(x)\n",
    "        x = self.relu(x)\n",
    "        x = self.max_pool(x)\n",
    "        x = self.conv2(x)\n",
    "        x = self.relu(x)\n",
    "        x = self.max_pool(x)\n",
    "        x = torch.flatten(x, start_dim=1)\n",
    "        x = self.fc1(x)\n",
    "        x = self.relu(x)\n",
    "        x = self.dropout(x)\n",
    "        x = self.fc2(x)\n",
    "        return x"
   ],
   "metadata": {
    "collapsed": false,
    "pycharm": {
     "name": "#%%\n"
    }
   }
  },
  {
   "cell_type": "markdown",
   "source": [
    "Set up the dataset and data loader"
   ],
   "metadata": {
    "collapsed": false,
    "pycharm": {
     "name": "#%% md\n"
    }
   }
  },
  {
   "cell_type": "code",
   "execution_count": 14,
   "outputs": [],
   "source": [
    "MNIST_MEAN, MNIST_STD = (0.1307,), (0.3081,)\n",
    "transform = transforms.Compose(\n",
    "    [transforms.ToTensor(), transforms.Normalize(MNIST_MEAN, MNIST_STD)]\n",
    ")\n",
    "mnist_training_data = datasets.MNIST(root='./data', train=True, transform=transform, download=True)\n",
    "mnist_test_data = datasets.MNIST(root='./data', train=False, transform=transform, download=True)\n",
    "train_loader = torch.utils.data.DataLoader(dataset=mnist_training_data, batch_size=64, shuffle=True)\n",
    "test_loader = torch.utils.data.DataLoader(dataset=mnist_test_data, batch_size=64, shuffle=False)"
   ],
   "metadata": {
    "collapsed": false,
    "pycharm": {
     "name": "#%%\n"
    }
   }
  },
  {
   "cell_type": "markdown",
   "source": [
    "Instantiate the model and set up the optimizer and loss function"
   ],
   "metadata": {
    "collapsed": false,
    "pycharm": {
     "name": "#%% md\n"
    }
   }
  },
  {
   "cell_type": "code",
   "execution_count": 8,
   "outputs": [],
   "source": [
    "learning_rate = 1e-3\n",
    "\n",
    "my_model = CNN()\n",
    "optimizer = optim.Adam(my_model.parameters(), lr=learning_rate)\n",
    "criterion = nn.CrossEntropyLoss()"
   ],
   "metadata": {
    "collapsed": false,
    "pycharm": {
     "name": "#%%\n"
    }
   }
  },
  {
   "cell_type": "code",
   "execution_count": 16,
   "outputs": [
    {
     "name": "stdout",
     "output_type": "stream",
     "text": [
      "[Epoch 1, Batch   100] loss: 0.565\n",
      "[Epoch 1, Batch   200] loss: 0.175\n",
      "[Epoch 1, Batch   300] loss: 0.120\n",
      "[Epoch 1, Batch   400] loss: 0.094\n",
      "[Epoch 1, Batch   500] loss: 0.099\n",
      "[Epoch 1, Batch   600] loss: 0.088\n",
      "[Epoch 1, Batch   700] loss: 0.085\n",
      "[Epoch 1, Batch   800] loss: 0.076\n",
      "[Epoch 1, Batch   900] loss: 0.061\n",
      "[1] loss: 0.148\n",
      "[Epoch 2, Batch   100] loss: 0.056\n",
      "[Epoch 2, Batch   200] loss: 0.060\n",
      "[Epoch 2, Batch   300] loss: 0.056\n",
      "[Epoch 2, Batch   400] loss: 0.052\n",
      "[Epoch 2, Batch   500] loss: 0.059\n",
      "[Epoch 2, Batch   600] loss: 0.049\n",
      "[Epoch 2, Batch   700] loss: 0.043\n",
      "[Epoch 2, Batch   800] loss: 0.046\n",
      "[Epoch 2, Batch   900] loss: 0.056\n",
      "[2] loss: 0.053\n",
      "[Epoch 3, Batch   100] loss: 0.035\n",
      "[Epoch 3, Batch   200] loss: 0.036\n",
      "[Epoch 3, Batch   300] loss: 0.051\n",
      "[Epoch 3, Batch   400] loss: 0.030\n",
      "[Epoch 3, Batch   500] loss: 0.036\n",
      "[Epoch 3, Batch   600] loss: 0.038\n",
      "[Epoch 3, Batch   700] loss: 0.035\n",
      "[Epoch 3, Batch   800] loss: 0.043\n",
      "[Epoch 3, Batch   900] loss: 0.046\n",
      "[3] loss: 0.039\n",
      "[Epoch 4, Batch   100] loss: 0.030\n",
      "[Epoch 4, Batch   200] loss: 0.025\n",
      "[Epoch 4, Batch   300] loss: 0.027\n",
      "[Epoch 4, Batch   400] loss: 0.027\n",
      "[Epoch 4, Batch   500] loss: 0.028\n",
      "[Epoch 4, Batch   600] loss: 0.031\n",
      "[Epoch 4, Batch   700] loss: 0.029\n",
      "[Epoch 4, Batch   800] loss: 0.033\n",
      "[Epoch 4, Batch   900] loss: 0.036\n",
      "[4] loss: 0.029\n",
      "[Epoch 5, Batch   100] loss: 0.020\n",
      "[Epoch 5, Batch   200] loss: 0.026\n",
      "[Epoch 5, Batch   300] loss: 0.025\n",
      "[Epoch 5, Batch   400] loss: 0.015\n",
      "[Epoch 5, Batch   500] loss: 0.020\n",
      "[Epoch 5, Batch   600] loss: 0.029\n",
      "[Epoch 5, Batch   700] loss: 0.035\n",
      "[Epoch 5, Batch   800] loss: 0.021\n",
      "[Epoch 5, Batch   900] loss: 0.022\n",
      "[5] loss: 0.024\n",
      "[Epoch 6, Batch   100] loss: 0.018\n",
      "[Epoch 6, Batch   200] loss: 0.017\n",
      "[Epoch 6, Batch   300] loss: 0.017\n",
      "[Epoch 6, Batch   400] loss: 0.015\n",
      "[Epoch 6, Batch   500] loss: 0.021\n",
      "[Epoch 6, Batch   600] loss: 0.016\n",
      "[Epoch 6, Batch   700] loss: 0.024\n",
      "[Epoch 6, Batch   800] loss: 0.022\n",
      "[Epoch 6, Batch   900] loss: 0.023\n",
      "[6] loss: 0.020\n",
      "[Epoch 7, Batch   100] loss: 0.014\n",
      "[Epoch 7, Batch   200] loss: 0.012\n",
      "[Epoch 7, Batch   300] loss: 0.015\n",
      "[Epoch 7, Batch   400] loss: 0.016\n",
      "[Epoch 7, Batch   500] loss: 0.013\n",
      "[Epoch 7, Batch   600] loss: 0.021\n",
      "[Epoch 7, Batch   700] loss: 0.015\n",
      "[Epoch 7, Batch   800] loss: 0.021\n",
      "[Epoch 7, Batch   900] loss: 0.019\n",
      "[7] loss: 0.016\n",
      "[Epoch 8, Batch   100] loss: 0.014\n",
      "[Epoch 8, Batch   200] loss: 0.008\n",
      "[Epoch 8, Batch   300] loss: 0.009\n",
      "[Epoch 8, Batch   400] loss: 0.017\n",
      "[Epoch 8, Batch   500] loss: 0.011\n",
      "[Epoch 8, Batch   600] loss: 0.017\n",
      "[Epoch 8, Batch   700] loss: 0.015\n",
      "[Epoch 8, Batch   800] loss: 0.019\n",
      "[Epoch 8, Batch   900] loss: 0.014\n",
      "[8] loss: 0.014\n",
      "[Epoch 9, Batch   100] loss: 0.012\n",
      "[Epoch 9, Batch   200] loss: 0.013\n",
      "[Epoch 9, Batch   300] loss: 0.010\n",
      "[Epoch 9, Batch   400] loss: 0.006\n",
      "[Epoch 9, Batch   500] loss: 0.016\n",
      "[Epoch 9, Batch   600] loss: 0.020\n",
      "[Epoch 9, Batch   700] loss: 0.011\n",
      "[Epoch 9, Batch   800] loss: 0.015\n",
      "[Epoch 9, Batch   900] loss: 0.015\n",
      "[9] loss: 0.013\n",
      "[Epoch 10, Batch   100] loss: 0.010\n",
      "[Epoch 10, Batch   200] loss: 0.009\n",
      "[Epoch 10, Batch   300] loss: 0.013\n",
      "[Epoch 10, Batch   400] loss: 0.007\n",
      "[Epoch 10, Batch   500] loss: 0.010\n",
      "[Epoch 10, Batch   600] loss: 0.012\n",
      "[Epoch 10, Batch   700] loss: 0.015\n",
      "[Epoch 10, Batch   800] loss: 0.018\n",
      "[Epoch 10, Batch   900] loss: 0.012\n",
      "[10] loss: 0.012\n"
     ]
    }
   ],
   "source": [
    "trained_network = train_model(train_loader, my_model, optimizer, loss_function)"
   ],
   "metadata": {
    "collapsed": false,
    "pycharm": {
     "name": "#%%\n"
    }
   }
  },
  {
   "cell_type": "code",
   "execution_count": 17,
   "outputs": [],
   "source": [
    "torch.save(trained_network.state_dict(), 'my-cnn-mnist.pt')"
   ],
   "metadata": {
    "collapsed": false,
    "pycharm": {
     "name": "#%%\n"
    }
   }
  },
  {
   "cell_type": "code",
   "execution_count": 18,
   "outputs": [
    {
     "name": "stdout",
     "output_type": "stream",
     "text": [
      "Test accuracy: 99.20%\n"
     ]
    }
   ],
   "source": [
    "test_model(test_loader, trained_network)"
   ],
   "metadata": {
    "collapsed": false,
    "pycharm": {
     "name": "#%%\n"
    }
   }
  },
  {
   "cell_type": "markdown",
   "source": [
    "## Use pre-trained model for SVNH dataset"
   ],
   "metadata": {
    "collapsed": false,
    "pycharm": {
     "name": "#%% md\n"
    }
   }
  },
  {
   "cell_type": "code",
   "execution_count": 21,
   "outputs": [],
   "source": [
    "pretrained_model = CNN()\n",
    "pretrained_model.load_state_dict(torch.load('my-cnn-mnist.pt'))\n",
    "\n",
    "# Freeze the weights of the pretrained model\n",
    "for param in pretrained_model.parameters():\n",
    "    param.requires_grad = False"
   ],
   "metadata": {
    "collapsed": false,
    "pycharm": {
     "name": "#%%\n"
    }
   }
  },
  {
   "cell_type": "markdown",
   "source": [
    "Load and transform SVHN dataset"
   ],
   "metadata": {
    "collapsed": false,
    "pycharm": {
     "name": "#%% md\n"
    }
   }
  },
  {
   "cell_type": "code",
   "execution_count": 22,
   "outputs": [
    {
     "name": "stdout",
     "output_type": "stream",
     "text": [
      "Using downloaded and verified file: ./data/svhn/train_32x32.mat\n",
      "Using downloaded and verified file: ./data/svhn/test_32x32.mat\n"
     ]
    }
   ],
   "source": [
    "SVHN_IMAGE_SIZE = 32\n",
    "\n",
    "transform = transforms.Compose([\n",
    "    transforms.Grayscale(),\n",
    "    transforms.Resize((MNIST_IMAGE_SIZE, MNIST_IMAGE_SIZE)),\n",
    "    transforms.ToTensor(),\n",
    "    transforms.Normalize((0.5,), (0.5, )),\n",
    "])\n",
    "svhn_train_data = datasets.SVHN(\n",
    "    root='./data/svhn', split='train', transform=transform, download=True)\n",
    "svhn_test_data = datasets.SVHN(\n",
    "    root='./data/svhn', split='test', transform=transform, download=True)\n",
    "svhn_train_loader = torch.utils.data.DataLoader(\n",
    "    dataset=svhn_train_data, batch_size=64, shuffle=True\n",
    ")\n",
    "svhn_test_loader = torch.utils.data.DataLoader(\n",
    "    dataset=svhn_test_data, batch_size=64, shuffle=False\n",
    ")"
   ],
   "metadata": {
    "collapsed": false,
    "pycharm": {
     "name": "#%%\n"
    }
   }
  },
  {
   "cell_type": "markdown",
   "source": [
    "Unfreeze last layer"
   ],
   "metadata": {
    "collapsed": false,
    "pycharm": {
     "name": "#%% md\n"
    }
   }
  },
  {
   "cell_type": "code",
   "execution_count": 23,
   "outputs": [
    {
     "data": {
      "text/plain": "Linear(in_features=128, out_features=10, bias=True)"
     },
     "execution_count": 23,
     "metadata": {},
     "output_type": "execute_result"
    }
   ],
   "source": [
    "pretrained_model.fc2.requires_grad_(True)"
   ],
   "metadata": {
    "collapsed": false,
    "pycharm": {
     "name": "#%%\n"
    }
   }
  },
  {
   "cell_type": "markdown",
   "source": [
    "Set up the optimizer and loss function"
   ],
   "metadata": {
    "collapsed": false,
    "pycharm": {
     "name": "#%% md\n"
    }
   }
  },
  {
   "cell_type": "code",
   "execution_count": 24,
   "outputs": [],
   "source": [
    "optimizer = optim.Adam(pretrained_model.fc2.parameters(), lr=learning_rate)"
   ],
   "metadata": {
    "collapsed": false,
    "pycharm": {
     "name": "#%%\n"
    }
   }
  },
  {
   "cell_type": "code",
   "execution_count": 25,
   "outputs": [
    {
     "name": "stdout",
     "output_type": "stream",
     "text": [
      "[Epoch 1, Batch   100] loss: 2.142\n",
      "[Epoch 1, Batch   200] loss: 2.100\n",
      "[Epoch 1, Batch   300] loss: 2.034\n",
      "[Epoch 1, Batch   400] loss: 2.031\n",
      "[Epoch 1, Batch   500] loss: 1.989\n",
      "[Epoch 1, Batch   600] loss: 1.983\n",
      "[Epoch 1, Batch   700] loss: 1.958\n",
      "[Epoch 1, Batch   800] loss: 1.956\n",
      "[Epoch 1, Batch   900] loss: 1.929\n",
      "[Epoch 1, Batch  1000] loss: 1.946\n",
      "[Epoch 1, Batch  1100] loss: 1.918\n",
      "[1] loss: 1.996\n",
      "[Epoch 2, Batch   100] loss: 1.911\n",
      "[Epoch 2, Batch   200] loss: 1.909\n",
      "[Epoch 2, Batch   300] loss: 1.896\n",
      "[Epoch 2, Batch   400] loss: 1.894\n",
      "[Epoch 2, Batch   500] loss: 1.906\n",
      "[Epoch 2, Batch   600] loss: 1.872\n",
      "[Epoch 2, Batch   700] loss: 1.893\n",
      "[Epoch 2, Batch   800] loss: 1.902\n",
      "[Epoch 2, Batch   900] loss: 1.891\n",
      "[Epoch 2, Batch  1000] loss: 1.869\n",
      "[Epoch 2, Batch  1100] loss: 1.874\n",
      "[2] loss: 1.891\n",
      "[Epoch 3, Batch   100] loss: 1.864\n",
      "[Epoch 3, Batch   200] loss: 1.873\n",
      "[Epoch 3, Batch   300] loss: 1.871\n",
      "[Epoch 3, Batch   400] loss: 1.862\n",
      "[Epoch 3, Batch   500] loss: 1.884\n",
      "[Epoch 3, Batch   600] loss: 1.876\n",
      "[Epoch 3, Batch   700] loss: 1.868\n",
      "[Epoch 3, Batch   800] loss: 1.850\n",
      "[Epoch 3, Batch   900] loss: 1.860\n",
      "[Epoch 3, Batch  1000] loss: 1.853\n",
      "[Epoch 3, Batch  1100] loss: 1.832\n",
      "[3] loss: 1.862\n",
      "[Epoch 4, Batch   100] loss: 1.864\n",
      "[Epoch 4, Batch   200] loss: 1.877\n",
      "[Epoch 4, Batch   300] loss: 1.835\n",
      "[Epoch 4, Batch   400] loss: 1.848\n",
      "[Epoch 4, Batch   500] loss: 1.832\n",
      "[Epoch 4, Batch   600] loss: 1.853\n",
      "[Epoch 4, Batch   700] loss: 1.863\n",
      "[Epoch 4, Batch   800] loss: 1.833\n",
      "[Epoch 4, Batch   900] loss: 1.830\n",
      "[Epoch 4, Batch  1000] loss: 1.831\n",
      "[Epoch 4, Batch  1100] loss: 1.836\n",
      "[4] loss: 1.846\n",
      "[Epoch 5, Batch   100] loss: 1.855\n",
      "[Epoch 5, Batch   200] loss: 1.850\n",
      "[Epoch 5, Batch   300] loss: 1.837\n",
      "[Epoch 5, Batch   400] loss: 1.824\n",
      "[Epoch 5, Batch   500] loss: 1.834\n",
      "[Epoch 5, Batch   600] loss: 1.854\n",
      "[Epoch 5, Batch   700] loss: 1.844\n",
      "[Epoch 5, Batch   800] loss: 1.857\n",
      "[Epoch 5, Batch   900] loss: 1.839\n",
      "[Epoch 5, Batch  1000] loss: 1.825\n",
      "[Epoch 5, Batch  1100] loss: 1.841\n",
      "[5] loss: 1.841\n",
      "[Epoch 6, Batch   100] loss: 1.855\n",
      "[Epoch 6, Batch   200] loss: 1.815\n",
      "[Epoch 6, Batch   300] loss: 1.842\n",
      "[Epoch 6, Batch   400] loss: 1.851\n",
      "[Epoch 6, Batch   500] loss: 1.822\n",
      "[Epoch 6, Batch   600] loss: 1.831\n",
      "[Epoch 6, Batch   700] loss: 1.830\n",
      "[Epoch 6, Batch   800] loss: 1.867\n",
      "[Epoch 6, Batch   900] loss: 1.840\n",
      "[Epoch 6, Batch  1000] loss: 1.834\n",
      "[Epoch 6, Batch  1100] loss: 1.818\n",
      "[6] loss: 1.838\n",
      "[Epoch 7, Batch   100] loss: 1.827\n",
      "[Epoch 7, Batch   200] loss: 1.833\n",
      "[Epoch 7, Batch   300] loss: 1.846\n",
      "[Epoch 7, Batch   400] loss: 1.846\n",
      "[Epoch 7, Batch   500] loss: 1.820\n",
      "[Epoch 7, Batch   600] loss: 1.847\n",
      "[Epoch 7, Batch   700] loss: 1.832\n",
      "[Epoch 7, Batch   800] loss: 1.836\n",
      "[Epoch 7, Batch   900] loss: 1.843\n",
      "[Epoch 7, Batch  1000] loss: 1.859\n",
      "[Epoch 7, Batch  1100] loss: 1.829\n",
      "[7] loss: 1.837\n",
      "[Epoch 8, Batch   100] loss: 1.832\n",
      "[Epoch 8, Batch   200] loss: 1.820\n",
      "[Epoch 8, Batch   300] loss: 1.848\n",
      "[Epoch 8, Batch   400] loss: 1.820\n",
      "[Epoch 8, Batch   500] loss: 1.819\n",
      "[Epoch 8, Batch   600] loss: 1.830\n",
      "[Epoch 8, Batch   700] loss: 1.832\n",
      "[Epoch 8, Batch   800] loss: 1.836\n",
      "[Epoch 8, Batch   900] loss: 1.836\n",
      "[Epoch 8, Batch  1000] loss: 1.841\n",
      "[Epoch 8, Batch  1100] loss: 1.836\n",
      "[8] loss: 1.833\n",
      "[Epoch 9, Batch   100] loss: 1.845\n",
      "[Epoch 9, Batch   200] loss: 1.846\n",
      "[Epoch 9, Batch   300] loss: 1.839\n",
      "[Epoch 9, Batch   400] loss: 1.819\n",
      "[Epoch 9, Batch   500] loss: 1.843\n",
      "[Epoch 9, Batch   600] loss: 1.831\n",
      "[Epoch 9, Batch   700] loss: 1.815\n",
      "[Epoch 9, Batch   800] loss: 1.832\n",
      "[Epoch 9, Batch   900] loss: 1.817\n",
      "[Epoch 9, Batch  1000] loss: 1.826\n",
      "[Epoch 9, Batch  1100] loss: 1.832\n",
      "[9] loss: 1.831\n",
      "[Epoch 10, Batch   100] loss: 1.823\n",
      "[Epoch 10, Batch   200] loss: 1.842\n",
      "[Epoch 10, Batch   300] loss: 1.855\n",
      "[Epoch 10, Batch   400] loss: 1.818\n",
      "[Epoch 10, Batch   500] loss: 1.829\n",
      "[Epoch 10, Batch   600] loss: 1.843\n",
      "[Epoch 10, Batch   700] loss: 1.836\n",
      "[Epoch 10, Batch   800] loss: 1.814\n",
      "[Epoch 10, Batch   900] loss: 1.817\n",
      "[Epoch 10, Batch  1000] loss: 1.845\n",
      "[Epoch 10, Batch  1100] loss: 1.835\n",
      "[10] loss: 1.832\n"
     ]
    }
   ],
   "source": [
    "trained_network = train_model(\n",
    "    svhn_train_loader, pretrained_model, optimizer, loss_function\n",
    ")\n",
    "torch.save(trained_network.state_dict(), 'my-cnn-mnist-pretrained-svhn.pt')"
   ],
   "metadata": {
    "collapsed": false,
    "pycharm": {
     "name": "#%%\n"
    }
   }
  },
  {
   "cell_type": "code",
   "execution_count": 26,
   "outputs": [
    {
     "name": "stdout",
     "output_type": "stream",
     "text": [
      "Test accuracy: 43.04%\n"
     ]
    }
   ],
   "source": [
    "test_model(svhn_test_loader, trained_network)"
   ],
   "metadata": {
    "collapsed": false,
    "pycharm": {
     "name": "#%%\n"
    }
   }
  },
  {
   "cell_type": "markdown",
   "source": [
    "## Transfer learning"
   ],
   "metadata": {
    "collapsed": false,
    "pycharm": {
     "name": "#%% md\n"
    }
   }
  },
  {
   "cell_type": "code",
   "execution_count": 17,
   "outputs": [
    {
     "ename": "RuntimeError",
     "evalue": "Given groups=1, weight of size [32, 3, 3, 3], expected input[64, 1, 28, 28] to have 3 channels, but got 1 channels instead",
     "output_type": "error",
     "traceback": [
      "\u001B[0;31m---------------------------------------------------------------------------\u001B[0m",
      "\u001B[0;31mRuntimeError\u001B[0m                              Traceback (most recent call last)",
      "Cell \u001B[0;32mIn[17], line 17\u001B[0m\n\u001B[1;32m     12\u001B[0m pretrained_model\u001B[38;5;241m.\u001B[39mfc1 \u001B[38;5;241m=\u001B[39m nn\u001B[38;5;241m.\u001B[39mLinear(\n\u001B[1;32m     13\u001B[0m     num_conv2_channels \u001B[38;5;241m*\u001B[39m SVHN_IMAGE_SIZE\u001B[38;5;241m*\u001B[39m\u001B[38;5;241m*\u001B[39m\u001B[38;5;241m2\u001B[39m \u001B[38;5;241m/\u001B[39m\u001B[38;5;241m/\u001B[39m pool_kernel_size\u001B[38;5;241m*\u001B[39m\u001B[38;5;241m*\u001B[39m\u001B[38;5;241m4\u001B[39m,\n\u001B[1;32m     14\u001B[0m     fc1_output_size,\n\u001B[1;32m     15\u001B[0m )\n\u001B[1;32m     16\u001B[0m optimizer \u001B[38;5;241m=\u001B[39m optim\u001B[38;5;241m.\u001B[39mAdam(pretrained_model\u001B[38;5;241m.\u001B[39mfc2\u001B[38;5;241m.\u001B[39mparameters(), lr\u001B[38;5;241m=\u001B[39mlearning_rate)\n\u001B[0;32m---> 17\u001B[0m trained_network \u001B[38;5;241m=\u001B[39m \u001B[43mtrain_model\u001B[49m\u001B[43m(\u001B[49m\n\u001B[1;32m     18\u001B[0m \u001B[43m    \u001B[49m\u001B[43msvhn_train_loader\u001B[49m\u001B[43m,\u001B[49m\u001B[43m \u001B[49m\u001B[43mpretrained_model\u001B[49m\u001B[43m,\u001B[49m\u001B[43m \u001B[49m\u001B[43moptimizer\u001B[49m\u001B[43m,\u001B[49m\u001B[43m \u001B[49m\u001B[43mloss_function\u001B[49m\u001B[43m,\u001B[49m\u001B[43m \u001B[49m\u001B[43mnum_epochs\u001B[49m\u001B[38;5;241;43m=\u001B[39;49m\u001B[38;5;241;43m4\u001B[39;49m\n\u001B[1;32m     19\u001B[0m \u001B[43m)\u001B[49m\n\u001B[1;32m     20\u001B[0m torch\u001B[38;5;241m.\u001B[39msave(trained_network\u001B[38;5;241m.\u001B[39mstate_dict(), \u001B[38;5;124m'\u001B[39m\u001B[38;5;124mmy-cnn-mnist-transfer-svhn.pt\u001B[39m\u001B[38;5;124m'\u001B[39m)\n",
      "Cell \u001B[0;32mIn[6], line 9\u001B[0m, in \u001B[0;36mtrain_model\u001B[0;34m(data_loader, network, optimizer, criterion, num_epochs)\u001B[0m\n\u001B[1;32m      7\u001B[0m inputs, labels \u001B[38;5;241m=\u001B[39m data[\u001B[38;5;241m0\u001B[39m]\u001B[38;5;241m.\u001B[39mto(device), data[\u001B[38;5;241m1\u001B[39m]\u001B[38;5;241m.\u001B[39mto(device)\n\u001B[1;32m      8\u001B[0m optimizer\u001B[38;5;241m.\u001B[39mzero_grad()\n\u001B[0;32m----> 9\u001B[0m outputs \u001B[38;5;241m=\u001B[39m \u001B[43mnetwork\u001B[49m\u001B[43m(\u001B[49m\u001B[43minputs\u001B[49m\u001B[43m)\u001B[49m\n\u001B[1;32m     10\u001B[0m loss \u001B[38;5;241m=\u001B[39m criterion(outputs, labels)\n\u001B[1;32m     11\u001B[0m loss\u001B[38;5;241m.\u001B[39mbackward()\n",
      "File \u001B[0;32m~/ltu/adl/venv/lib/python3.11/site-packages/torch/nn/modules/module.py:1501\u001B[0m, in \u001B[0;36mModule._call_impl\u001B[0;34m(self, *args, **kwargs)\u001B[0m\n\u001B[1;32m   1496\u001B[0m \u001B[38;5;66;03m# If we don't have any hooks, we want to skip the rest of the logic in\u001B[39;00m\n\u001B[1;32m   1497\u001B[0m \u001B[38;5;66;03m# this function, and just call forward.\u001B[39;00m\n\u001B[1;32m   1498\u001B[0m \u001B[38;5;28;01mif\u001B[39;00m \u001B[38;5;129;01mnot\u001B[39;00m (\u001B[38;5;28mself\u001B[39m\u001B[38;5;241m.\u001B[39m_backward_hooks \u001B[38;5;129;01mor\u001B[39;00m \u001B[38;5;28mself\u001B[39m\u001B[38;5;241m.\u001B[39m_backward_pre_hooks \u001B[38;5;129;01mor\u001B[39;00m \u001B[38;5;28mself\u001B[39m\u001B[38;5;241m.\u001B[39m_forward_hooks \u001B[38;5;129;01mor\u001B[39;00m \u001B[38;5;28mself\u001B[39m\u001B[38;5;241m.\u001B[39m_forward_pre_hooks\n\u001B[1;32m   1499\u001B[0m         \u001B[38;5;129;01mor\u001B[39;00m _global_backward_pre_hooks \u001B[38;5;129;01mor\u001B[39;00m _global_backward_hooks\n\u001B[1;32m   1500\u001B[0m         \u001B[38;5;129;01mor\u001B[39;00m _global_forward_hooks \u001B[38;5;129;01mor\u001B[39;00m _global_forward_pre_hooks):\n\u001B[0;32m-> 1501\u001B[0m     \u001B[38;5;28;01mreturn\u001B[39;00m \u001B[43mforward_call\u001B[49m\u001B[43m(\u001B[49m\u001B[38;5;241;43m*\u001B[39;49m\u001B[43margs\u001B[49m\u001B[43m,\u001B[49m\u001B[43m \u001B[49m\u001B[38;5;241;43m*\u001B[39;49m\u001B[38;5;241;43m*\u001B[39;49m\u001B[43mkwargs\u001B[49m\u001B[43m)\u001B[49m\n\u001B[1;32m   1502\u001B[0m \u001B[38;5;66;03m# Do not call functions when jit is used\u001B[39;00m\n\u001B[1;32m   1503\u001B[0m full_backward_hooks, non_full_backward_hooks \u001B[38;5;241m=\u001B[39m [], []\n",
      "Cell \u001B[0;32mIn[7], line 44\u001B[0m, in \u001B[0;36mCNN.forward\u001B[0;34m(self, x)\u001B[0m\n\u001B[1;32m     43\u001B[0m \u001B[38;5;28;01mdef\u001B[39;00m \u001B[38;5;21mforward\u001B[39m(\u001B[38;5;28mself\u001B[39m, x):\n\u001B[0;32m---> 44\u001B[0m     x \u001B[38;5;241m=\u001B[39m \u001B[38;5;28;43mself\u001B[39;49m\u001B[38;5;241;43m.\u001B[39;49m\u001B[43mconv1\u001B[49m\u001B[43m(\u001B[49m\u001B[43mx\u001B[49m\u001B[43m)\u001B[49m\n\u001B[1;32m     45\u001B[0m     x \u001B[38;5;241m=\u001B[39m \u001B[38;5;28mself\u001B[39m\u001B[38;5;241m.\u001B[39mrelu(x)\n\u001B[1;32m     46\u001B[0m     x \u001B[38;5;241m=\u001B[39m \u001B[38;5;28mself\u001B[39m\u001B[38;5;241m.\u001B[39mmax_pool(x)\n",
      "File \u001B[0;32m~/ltu/adl/venv/lib/python3.11/site-packages/torch/nn/modules/module.py:1501\u001B[0m, in \u001B[0;36mModule._call_impl\u001B[0;34m(self, *args, **kwargs)\u001B[0m\n\u001B[1;32m   1496\u001B[0m \u001B[38;5;66;03m# If we don't have any hooks, we want to skip the rest of the logic in\u001B[39;00m\n\u001B[1;32m   1497\u001B[0m \u001B[38;5;66;03m# this function, and just call forward.\u001B[39;00m\n\u001B[1;32m   1498\u001B[0m \u001B[38;5;28;01mif\u001B[39;00m \u001B[38;5;129;01mnot\u001B[39;00m (\u001B[38;5;28mself\u001B[39m\u001B[38;5;241m.\u001B[39m_backward_hooks \u001B[38;5;129;01mor\u001B[39;00m \u001B[38;5;28mself\u001B[39m\u001B[38;5;241m.\u001B[39m_backward_pre_hooks \u001B[38;5;129;01mor\u001B[39;00m \u001B[38;5;28mself\u001B[39m\u001B[38;5;241m.\u001B[39m_forward_hooks \u001B[38;5;129;01mor\u001B[39;00m \u001B[38;5;28mself\u001B[39m\u001B[38;5;241m.\u001B[39m_forward_pre_hooks\n\u001B[1;32m   1499\u001B[0m         \u001B[38;5;129;01mor\u001B[39;00m _global_backward_pre_hooks \u001B[38;5;129;01mor\u001B[39;00m _global_backward_hooks\n\u001B[1;32m   1500\u001B[0m         \u001B[38;5;129;01mor\u001B[39;00m _global_forward_hooks \u001B[38;5;129;01mor\u001B[39;00m _global_forward_pre_hooks):\n\u001B[0;32m-> 1501\u001B[0m     \u001B[38;5;28;01mreturn\u001B[39;00m \u001B[43mforward_call\u001B[49m\u001B[43m(\u001B[49m\u001B[38;5;241;43m*\u001B[39;49m\u001B[43margs\u001B[49m\u001B[43m,\u001B[49m\u001B[43m \u001B[49m\u001B[38;5;241;43m*\u001B[39;49m\u001B[38;5;241;43m*\u001B[39;49m\u001B[43mkwargs\u001B[49m\u001B[43m)\u001B[49m\n\u001B[1;32m   1502\u001B[0m \u001B[38;5;66;03m# Do not call functions when jit is used\u001B[39;00m\n\u001B[1;32m   1503\u001B[0m full_backward_hooks, non_full_backward_hooks \u001B[38;5;241m=\u001B[39m [], []\n",
      "File \u001B[0;32m~/ltu/adl/venv/lib/python3.11/site-packages/torch/nn/modules/conv.py:463\u001B[0m, in \u001B[0;36mConv2d.forward\u001B[0;34m(self, input)\u001B[0m\n\u001B[1;32m    462\u001B[0m \u001B[38;5;28;01mdef\u001B[39;00m \u001B[38;5;21mforward\u001B[39m(\u001B[38;5;28mself\u001B[39m, \u001B[38;5;28minput\u001B[39m: Tensor) \u001B[38;5;241m-\u001B[39m\u001B[38;5;241m>\u001B[39m Tensor:\n\u001B[0;32m--> 463\u001B[0m     \u001B[38;5;28;01mreturn\u001B[39;00m \u001B[38;5;28;43mself\u001B[39;49m\u001B[38;5;241;43m.\u001B[39;49m\u001B[43m_conv_forward\u001B[49m\u001B[43m(\u001B[49m\u001B[38;5;28;43minput\u001B[39;49m\u001B[43m,\u001B[49m\u001B[43m \u001B[49m\u001B[38;5;28;43mself\u001B[39;49m\u001B[38;5;241;43m.\u001B[39;49m\u001B[43mweight\u001B[49m\u001B[43m,\u001B[49m\u001B[43m \u001B[49m\u001B[38;5;28;43mself\u001B[39;49m\u001B[38;5;241;43m.\u001B[39;49m\u001B[43mbias\u001B[49m\u001B[43m)\u001B[49m\n",
      "File \u001B[0;32m~/ltu/adl/venv/lib/python3.11/site-packages/torch/nn/modules/conv.py:459\u001B[0m, in \u001B[0;36mConv2d._conv_forward\u001B[0;34m(self, input, weight, bias)\u001B[0m\n\u001B[1;32m    455\u001B[0m \u001B[38;5;28;01mif\u001B[39;00m \u001B[38;5;28mself\u001B[39m\u001B[38;5;241m.\u001B[39mpadding_mode \u001B[38;5;241m!=\u001B[39m \u001B[38;5;124m'\u001B[39m\u001B[38;5;124mzeros\u001B[39m\u001B[38;5;124m'\u001B[39m:\n\u001B[1;32m    456\u001B[0m     \u001B[38;5;28;01mreturn\u001B[39;00m F\u001B[38;5;241m.\u001B[39mconv2d(F\u001B[38;5;241m.\u001B[39mpad(\u001B[38;5;28minput\u001B[39m, \u001B[38;5;28mself\u001B[39m\u001B[38;5;241m.\u001B[39m_reversed_padding_repeated_twice, mode\u001B[38;5;241m=\u001B[39m\u001B[38;5;28mself\u001B[39m\u001B[38;5;241m.\u001B[39mpadding_mode),\n\u001B[1;32m    457\u001B[0m                     weight, bias, \u001B[38;5;28mself\u001B[39m\u001B[38;5;241m.\u001B[39mstride,\n\u001B[1;32m    458\u001B[0m                     _pair(\u001B[38;5;241m0\u001B[39m), \u001B[38;5;28mself\u001B[39m\u001B[38;5;241m.\u001B[39mdilation, \u001B[38;5;28mself\u001B[39m\u001B[38;5;241m.\u001B[39mgroups)\n\u001B[0;32m--> 459\u001B[0m \u001B[38;5;28;01mreturn\u001B[39;00m \u001B[43mF\u001B[49m\u001B[38;5;241;43m.\u001B[39;49m\u001B[43mconv2d\u001B[49m\u001B[43m(\u001B[49m\u001B[38;5;28;43minput\u001B[39;49m\u001B[43m,\u001B[49m\u001B[43m \u001B[49m\u001B[43mweight\u001B[49m\u001B[43m,\u001B[49m\u001B[43m \u001B[49m\u001B[43mbias\u001B[49m\u001B[43m,\u001B[49m\u001B[43m \u001B[49m\u001B[38;5;28;43mself\u001B[39;49m\u001B[38;5;241;43m.\u001B[39;49m\u001B[43mstride\u001B[49m\u001B[43m,\u001B[49m\n\u001B[1;32m    460\u001B[0m \u001B[43m                \u001B[49m\u001B[38;5;28;43mself\u001B[39;49m\u001B[38;5;241;43m.\u001B[39;49m\u001B[43mpadding\u001B[49m\u001B[43m,\u001B[49m\u001B[43m \u001B[49m\u001B[38;5;28;43mself\u001B[39;49m\u001B[38;5;241;43m.\u001B[39;49m\u001B[43mdilation\u001B[49m\u001B[43m,\u001B[49m\u001B[43m \u001B[49m\u001B[38;5;28;43mself\u001B[39;49m\u001B[38;5;241;43m.\u001B[39;49m\u001B[43mgroups\u001B[49m\u001B[43m)\u001B[49m\n",
      "\u001B[0;31mRuntimeError\u001B[0m: Given groups=1, weight of size [32, 3, 3, 3], expected input[64, 1, 28, 28] to have 3 channels, but got 1 channels instead"
     ]
    }
   ],
   "source": [
    "pretrained_model = CNN()\n",
    "pretrained_model.load_state_dict(torch.load('my-cnn-mnist.pt'))\n",
    "\n",
    "pretrained_model.conv1 = nn.Conv2d(\n",
    "    in_channels=3,\n",
    "    out_channels=num_conv1_channels,\n",
    "    kernel_size=conv_kernel_size,\n",
    "    stride=conv_stride,\n",
    "    padding=conv_padding,\n",
    ")\n",
    "SVHN_IMAGE_SIZE = 32\n",
    "pretrained_model.fc1 = nn.Linear(\n",
    "    num_conv2_channels * SVHN_IMAGE_SIZE**2 // pool_kernel_size**4,\n",
    "    fc1_output_size,\n",
    ")\n",
    "optimizer = optim.Adam(pretrained_model.fc2.parameters(), lr=learning_rate)\n",
    "trained_network = train_model(\n",
    "    svhn_train_loader, pretrained_model, optimizer, loss_function, num_epochs=4\n",
    ")\n",
    "torch.save(trained_network.state_dict(), 'my-cnn-mnist-transfer-svhn.pt')"
   ],
   "metadata": {
    "collapsed": false,
    "pycharm": {
     "name": "#%%\n"
    }
   }
  },
  {
   "cell_type": "code",
   "execution_count": 53,
   "outputs": [
    {
     "name": "stdout",
     "output_type": "stream",
     "text": [
      "Test accuracy: 19.59%\n"
     ]
    }
   ],
   "source": [
    "test_model(svhn_test_loader, trained_network)"
   ],
   "metadata": {
    "collapsed": false,
    "pycharm": {
     "name": "#%%\n"
    }
   }
  },
  {
   "cell_type": "markdown",
   "source": [],
   "metadata": {
    "collapsed": false,
    "pycharm": {
     "name": "#%% md\n"
    }
   }
  }
 ],
 "metadata": {
  "kernelspec": {
   "display_name": "Python 3 (ipykernel)",
   "language": "python",
   "name": "python3"
  },
  "language_info": {
   "codemirror_mode": {
    "name": "ipython",
    "version": 3
   },
   "file_extension": ".py",
   "mimetype": "text/x-python",
   "name": "python",
   "nbconvert_exporter": "python",
   "pygments_lexer": "ipython3",
   "version": "3.9.13"
  }
 },
 "nbformat": 4,
 "nbformat_minor": 5
}