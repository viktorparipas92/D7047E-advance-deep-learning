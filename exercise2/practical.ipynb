{
 "cells": [
  {
   "cell_type": "code",
   "execution_count": 1,
   "outputs": [],
   "source": [
    "import torch\n",
    "from torch import nn, optim\n",
    "from torch.utils.data import DataLoader\n",
    "from torch.utils.tensorboard import SummaryWriter\n",
    "from torchvision import datasets, models, transforms"
   ],
   "metadata": {
    "collapsed": false,
    "pycharm": {
     "name": "#%%\n"
    }
   }
  },
  {
   "cell_type": "markdown",
   "source": [
    "# Transfer learning on the CIFAR-10 dataset"
   ],
   "metadata": {
    "collapsed": false,
    "pycharm": {
     "name": "#%% md\n"
    }
   }
  },
  {
   "cell_type": "code",
   "execution_count": 2,
   "outputs": [],
   "source": [
    "# Hyperparameters\n",
    "learning_rate = 1e-4\n",
    "batch_size = 50\n",
    "NUM_EPOCHS = 4  # alter this afterwards\n",
    "momentum = 0.9\n",
    "loss_function = nn.CrossEntropyLoss()\n",
    "\n",
    "# Architecture\n",
    "NUM_CLASSES = 10\n"
   ],
   "metadata": {
    "collapsed": false,
    "pycharm": {
     "name": "#%%\n"
    }
   }
  },
  {
   "cell_type": "code",
   "execution_count": 3,
   "outputs": [
    {
     "name": "stdout",
     "output_type": "stream",
     "text": [
      "Files already downloaded and verified\n",
      "Files already downloaded and verified\n"
     ]
    }
   ],
   "source": [
    "RESIZE_SIZE = 70\n",
    "CROP_TO_SIZE = 64\n",
    "\n",
    "transform = transforms.Compose([\n",
    "    transforms.Resize((RESIZE_SIZE, RESIZE_SIZE)),\n",
    "    transforms.RandomCrop((CROP_TO_SIZE, CROP_TO_SIZE)),\n",
    "    transforms.ToTensor(),\n",
    "])\n",
    "\n",
    "\n",
    "cifar_10_training_data = datasets.CIFAR10(\n",
    "    root='./data', train=True, download=True, transform=transform)\n",
    "cifar_10_test_data = datasets.CIFAR10(\n",
    "    root='./data', train=False, download=True, transform=transform)\n",
    "\n",
    "train_loader = DataLoader(\n",
    "    cifar_10_training_data, batch_size=batch_size, shuffle=True, num_workers=2\n",
    ")\n",
    "test_loader = DataLoader(\n",
    "    cifar_10_test_data, batch_size=batch_size, shuffle=False, num_workers=2\n",
    ")"
   ],
   "metadata": {
    "collapsed": false,
    "pycharm": {
     "name": "#%%\n"
    }
   }
  },
  {
   "cell_type": "markdown",
   "source": [
    "Training-Testing Functions"
   ],
   "metadata": {
    "collapsed": false,
    "pycharm": {
     "name": "#%% md\n"
    }
   }
  },
  {
   "cell_type": "code",
   "execution_count": 4,
   "outputs": [],
   "source": [
    "writer = SummaryWriter()"
   ],
   "metadata": {
    "collapsed": false,
    "pycharm": {
     "name": "#%%\n"
    }
   }
  },
  {
   "cell_type": "code",
   "execution_count": 5,
   "outputs": [],
   "source": [
    "BATCH_TO_PRINT = 100"
   ],
   "metadata": {
    "collapsed": false,
    "pycharm": {
     "name": "#%%\n"
    }
   }
  },
  {
   "cell_type": "code",
   "execution_count": 6,
   "outputs": [],
   "source": [
    "def train_model(data_loader, network, optimizer, criterion, num_epochs=NUM_EPOCHS):\n",
    "    device = torch.device('cuda' if torch.cuda.is_available() else 'cpu')\n",
    "    network.to(device)\n",
    "    network.train()\n",
    "    for epoch in range(num_epochs):\n",
    "        running_loss = epoch_loss = 0.\n",
    "        for i, data in enumerate(data_loader):\n",
    "            inputs, labels = data[0].to(device), data[1].to(device)\n",
    "            optimizer.zero_grad()\n",
    "            outputs = network(inputs)\n",
    "            loss = criterion(outputs, labels)\n",
    "            loss.backward()\n",
    "            optimizer.step()\n",
    "            running_loss += loss.item()\n",
    "            epoch_loss += loss.item()\n",
    "\n",
    "            if i % BATCH_TO_PRINT == (BATCH_TO_PRINT - 1):\n",
    "                print('[Epoch %d, Batch %5d] loss: %.3f' %\n",
    "                      (epoch + 1, i + 1, running_loss / BATCH_TO_PRINT))\n",
    "                running_loss = 0.0\n",
    "\n",
    "        writer.add_scalar(f'Loss/train:', epoch_loss / len(data_loader), epoch)\n",
    "        print(f\"[{epoch + 1}] loss: {epoch_loss / len(data_loader):.3f}\")\n",
    "\n",
    "    writer.flush()\n",
    "    return network\n",
    "\n",
    "\n",
    "def test_model(data_loader, network):\n",
    "    device = torch.device('cuda' if torch.cuda.is_available() else 'cpu')\n",
    "    network.to(device)\n",
    "    network.eval()\n",
    "    correct = 0\n",
    "    total = 0\n",
    "    with torch.no_grad():\n",
    "        for data in data_loader:\n",
    "            images, labels = data[0].to(device), data[1].to(device)\n",
    "            outputs = alexnet(images)\n",
    "            _, predicted = torch.max(outputs.data, 1)\n",
    "            total += labels.size(0)\n",
    "            correct += (predicted == labels).sum().item()\n",
    "\n",
    "    print(F'Test accuracy: {(100 * correct / total):.2f}%')"
   ],
   "metadata": {
    "collapsed": false,
    "pycharm": {
     "name": "#%%\n"
    }
   }
  },
  {
   "cell_type": "markdown",
   "source": [
    "## Fine-tuning the model"
   ],
   "metadata": {
    "collapsed": false,
    "pycharm": {
     "name": "#%% md\n"
    }
   }
  },
  {
   "cell_type": "code",
   "execution_count": 7,
   "outputs": [],
   "source": [
    "alexnet = models.alexnet(weights='AlexNet_Weights.DEFAULT')\n",
    "alexnet.classifier.add_module('6', nn.Linear(4096, NUM_CLASSES))\n",
    "\n",
    "optimizer = optim.SGD(alexnet.parameters(), lr=learning_rate, momentum=momentum)"
   ],
   "metadata": {
    "collapsed": false,
    "pycharm": {
     "name": "#%%\n"
    }
   }
  },
  {
   "cell_type": "code",
   "execution_count": 8,
   "outputs": [
    {
     "name": "stdout",
     "output_type": "stream",
     "text": [
      "[Epoch 1, Batch   100] loss: 1.863\n",
      "[Epoch 1, Batch   200] loss: 1.439\n",
      "[Epoch 1, Batch   300] loss: 1.345\n",
      "[Epoch 1, Batch   400] loss: 1.252\n",
      "[Epoch 1, Batch   500] loss: 1.187\n",
      "[Epoch 1, Batch   600] loss: 1.163\n",
      "[Epoch 1, Batch   700] loss: 1.158\n",
      "[Epoch 1, Batch   800] loss: 1.113\n",
      "[Epoch 1, Batch   900] loss: 1.120\n",
      "[Epoch 1, Batch  1000] loss: 1.050\n",
      "[1] loss: 1.269\n",
      "[Epoch 2, Batch   100] loss: 1.011\n",
      "[Epoch 2, Batch   200] loss: 1.030\n",
      "[Epoch 2, Batch   300] loss: 1.005\n",
      "[Epoch 2, Batch   400] loss: 1.004\n",
      "[Epoch 2, Batch   500] loss: 0.983\n",
      "[Epoch 2, Batch   600] loss: 0.987\n",
      "[Epoch 2, Batch   700] loss: 0.978\n",
      "[Epoch 2, Batch   800] loss: 0.944\n",
      "[Epoch 2, Batch   900] loss: 0.936\n",
      "[Epoch 2, Batch  1000] loss: 0.923\n",
      "[2] loss: 0.980\n"
     ]
    }
   ],
   "source": [
    "trained_network = train_model(train_loader, alexnet, optimizer, loss_function, num_epochs=2)\n",
    "object_to_save = {\n",
    "    'model_state_dict': trained_network.state_dict(),\n",
    "    'optimizer_state_dict': optimizer.state_dict(),\n",
    "}\n",
    "torch.save(object_to_save, 'alexnet-fine-tuned-cifar-10.pt')"
   ],
   "metadata": {
    "collapsed": false,
    "pycharm": {
     "name": "#%%\n"
    }
   }
  },
  {
   "cell_type": "code",
   "execution_count": null,
   "outputs": [],
   "source": [
    "trained_network = train_model(train_loader, alexnet, optimizer, loss_function, num_epochs=2)\n",
    "object_to_save = {\n",
    "    'model_state_dict': trained_network.state_dict(),\n",
    "    'optimizer_state_dict': optimizer.state_dict(),\n",
    "}\n",
    "torch.save(object_to_save, 'alexnet-fine-tuned-cifar-10.pt')"
   ],
   "metadata": {
    "collapsed": false,
    "pycharm": {
     "name": "#%%\n"
    }
   }
  },
  {
   "cell_type": "code",
   "execution_count": 9,
   "outputs": [
    {
     "name": "stdout",
     "output_type": "stream",
     "text": [
      "Test accuracy: 67.99%\n"
     ]
    }
   ],
   "source": [
    "test = test_model(test_loader, trained_network)"
   ],
   "metadata": {
    "collapsed": false,
    "pycharm": {
     "name": "#%%\n"
    }
   }
  },
  {
   "cell_type": "markdown",
   "source": [
    "## Feature extraction"
   ],
   "metadata": {
    "collapsed": false,
    "pycharm": {
     "name": "#%% md\n"
    }
   }
  },
  {
   "cell_type": "code",
   "execution_count": 10,
   "outputs": [
    {
     "name": "stdout",
     "output_type": "stream",
     "text": [
      "[Epoch 1, Batch   100] loss: 1.846\n",
      "[Epoch 1, Batch   200] loss: 1.530\n",
      "[Epoch 1, Batch   300] loss: 1.431\n",
      "[Epoch 1, Batch   400] loss: 1.446\n",
      "[Epoch 1, Batch   500] loss: 1.391\n",
      "[Epoch 1, Batch   600] loss: 1.372\n",
      "[Epoch 1, Batch   700] loss: 1.337\n",
      "[Epoch 1, Batch   800] loss: 1.314\n",
      "[Epoch 1, Batch   900] loss: 1.333\n",
      "[Epoch 1, Batch  1000] loss: 1.348\n",
      "[1] loss: 1.435\n",
      "[Epoch 2, Batch   100] loss: 1.312\n",
      "[Epoch 2, Batch   200] loss: 1.274\n",
      "[Epoch 2, Batch   300] loss: 1.273\n",
      "[Epoch 2, Batch   400] loss: 1.283\n",
      "[Epoch 2, Batch   500] loss: 1.312\n",
      "[Epoch 2, Batch   600] loss: 1.264\n",
      "[Epoch 2, Batch   700] loss: 1.272\n",
      "[Epoch 2, Batch   800] loss: 1.261\n",
      "[Epoch 2, Batch   900] loss: 1.265\n",
      "[Epoch 2, Batch  1000] loss: 1.282\n",
      "[2] loss: 1.280\n",
      "[Epoch 3, Batch   100] loss: 1.247\n",
      "[Epoch 3, Batch   200] loss: 1.250\n",
      "[Epoch 3, Batch   300] loss: 1.264\n",
      "[Epoch 3, Batch   400] loss: 1.239\n",
      "[Epoch 3, Batch   500] loss: 1.241\n",
      "[Epoch 3, Batch   600] loss: 1.224\n",
      "[Epoch 3, Batch   700] loss: 1.188\n",
      "[Epoch 3, Batch   800] loss: 1.248\n",
      "[Epoch 3, Batch   900] loss: 1.230\n",
      "[Epoch 3, Batch  1000] loss: 1.251\n",
      "[3] loss: 1.238\n",
      "[Epoch 4, Batch   100] loss: 1.208\n",
      "[Epoch 4, Batch   200] loss: 1.209\n",
      "[Epoch 4, Batch   300] loss: 1.187\n",
      "[Epoch 4, Batch   400] loss: 1.201\n",
      "[Epoch 4, Batch   500] loss: 1.219\n",
      "[Epoch 4, Batch   600] loss: 1.204\n",
      "[Epoch 4, Batch   700] loss: 1.194\n",
      "[Epoch 4, Batch   800] loss: 1.215\n",
      "[Epoch 4, Batch   900] loss: 1.197\n",
      "[Epoch 4, Batch  1000] loss: 1.219\n",
      "[4] loss: 1.205\n"
     ]
    }
   ],
   "source": [
    "alexnet = models.alexnet(weights='AlexNet_Weights.DEFAULT')\n",
    "\n",
    "# Freeze all the layers in the feature extractor\n",
    "for param in alexnet.features.parameters():\n",
    "    param.requires_grad = False\n",
    "\n",
    "alexnet.classifier.add_module('6', nn.Linear(4096, NUM_CLASSES))\n",
    "\n",
    "optimizer = optim.SGD(alexnet.parameters(), lr=learning_rate, momentum=momentum)\n",
    "trained_network = train_model(train_loader, alexnet, optimizer, loss_function)\n",
    "object_to_save = {\n",
    "    'model_state_dict': trained_network.state_dict(),\n",
    "    'optimizer_state_dict': optimizer.state_dict(),\n",
    "}\n",
    "torch.save(object_to_save, 'alexnet-feature-extracted-cifar-10.pt')"
   ],
   "metadata": {
    "collapsed": false,
    "pycharm": {
     "name": "#%%\n"
    }
   }
  },
  {
   "cell_type": "code",
   "execution_count": 11,
   "outputs": [
    {
     "name": "stdout",
     "output_type": "stream",
     "text": [
      "Test accuracy: 58.98%\n"
     ]
    }
   ],
   "source": [
    "test_model(test_loader, trained_network)"
   ],
   "metadata": {
    "collapsed": false,
    "pycharm": {
     "name": "#%%\n"
    }
   }
  }
 ],
 "metadata": {
  "kernelspec": {
   "display_name": "Python 3 (ipykernel)",
   "language": "python",
   "name": "python3"
  },
  "language_info": {
   "codemirror_mode": {
    "name": "ipython",
    "version": 3
   },
   "file_extension": ".py",
   "mimetype": "text/x-python",
   "name": "python",
   "nbconvert_exporter": "python",
   "pygments_lexer": "ipython3",
   "version": "3.9.13"
  }
 },
 "nbformat": 4,
 "nbformat_minor": 5
}