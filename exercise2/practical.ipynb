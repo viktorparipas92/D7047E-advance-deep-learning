{
 "cells": [
  {
   "cell_type": "code",
   "execution_count": 1,
   "outputs": [],
   "source": [
    "import torch\n",
    "from torch import nn, optim\n",
    "from torch.utils.data import DataLoader\n",
    "from torch.utils.tensorboard import SummaryWriter\n",
    "from torchvision import datasets, models, transforms"
   ],
   "metadata": {
    "collapsed": false,
    "pycharm": {
     "name": "#%%\n"
    }
   }
  },
  {
   "cell_type": "markdown",
   "source": [
    "GPU device if possible"
   ],
   "metadata": {
    "collapsed": false,
    "pycharm": {
     "name": "#%% md\n"
    }
   }
  },
  {
   "cell_type": "code",
   "execution_count": 2,
   "outputs": [],
   "source": [
    "device = torch.device(\n",
    "    'cuda' if torch.cuda.is_available()\n",
    "    else 'mps' if torch.backends.mps.is_available()\n",
    "    else 'cpu'\n",
    ")"
   ],
   "metadata": {
    "collapsed": false,
    "pycharm": {
     "name": "#%%\n"
    }
   }
  },
  {
   "cell_type": "markdown",
   "source": [
    "# Transfer learning on the CIFAR-10 dataset"
   ],
   "metadata": {
    "collapsed": false,
    "pycharm": {
     "name": "#%% md\n"
    }
   }
  },
  {
   "cell_type": "code",
   "execution_count": 3,
   "outputs": [],
   "source": [
    "# Hyperparameters\n",
    "learning_rate = 1e-4\n",
    "batch_size = 50\n",
    "NUM_EPOCHS = 10\n",
    "momentum = 0.9\n",
    "loss_function = nn.CrossEntropyLoss()\n",
    "\n",
    "# Architecture\n",
    "NUM_CLASSES = 10\n"
   ],
   "metadata": {
    "collapsed": false,
    "pycharm": {
     "name": "#%%\n"
    }
   }
  },
  {
   "cell_type": "code",
   "execution_count": 4,
   "outputs": [
    {
     "name": "stdout",
     "output_type": "stream",
     "text": [
      "Files already downloaded and verified\n",
      "Files already downloaded and verified\n"
     ]
    }
   ],
   "source": [
    "RESIZE_SIZE = 70\n",
    "CROP_TO_SIZE = 64\n",
    "\n",
    "transform = transforms.Compose([\n",
    "    transforms.Resize((RESIZE_SIZE, RESIZE_SIZE)),\n",
    "    transforms.RandomCrop((CROP_TO_SIZE, CROP_TO_SIZE)),\n",
    "    transforms.ToTensor(),\n",
    "])\n",
    "\n",
    "\n",
    "cifar_10_training_data = datasets.CIFAR10(\n",
    "    root='./data', train=True, download=True, transform=transform)\n",
    "cifar_10_test_data = datasets.CIFAR10(\n",
    "    root='./data', train=False, download=True, transform=transform)\n",
    "\n",
    "train_loader = DataLoader(\n",
    "    cifar_10_training_data, batch_size=batch_size, shuffle=True, num_workers=2\n",
    ")\n",
    "test_loader = DataLoader(\n",
    "    cifar_10_test_data, batch_size=batch_size, shuffle=False, num_workers=2\n",
    ")"
   ],
   "metadata": {
    "collapsed": false,
    "pycharm": {
     "name": "#%%\n"
    }
   }
  },
  {
   "cell_type": "markdown",
   "source": [
    "Training-Testing Functions"
   ],
   "metadata": {
    "collapsed": false,
    "pycharm": {
     "name": "#%% md\n"
    }
   }
  },
  {
   "cell_type": "code",
   "execution_count": 5,
   "outputs": [],
   "source": [
    "writer = SummaryWriter()"
   ],
   "metadata": {
    "collapsed": false,
    "pycharm": {
     "name": "#%%\n"
    }
   }
  },
  {
   "cell_type": "code",
   "execution_count": 6,
   "outputs": [],
   "source": [
    "BATCH_TO_PRINT = 100"
   ],
   "metadata": {
    "collapsed": false,
    "pycharm": {
     "name": "#%%\n"
    }
   }
  },
  {
   "cell_type": "code",
   "execution_count": 7,
   "outputs": [],
   "source": [
    "def train_model(data_loader, network, optimizer, criterion, num_epochs=NUM_EPOCHS):\n",
    "    network = network.to(device)\n",
    "    network.train()\n",
    "    for epoch in range(num_epochs):\n",
    "        running_loss = epoch_loss = 0.\n",
    "        for i, data in enumerate(data_loader):\n",
    "            inputs, labels = data[0].to(device), data[1].to(device)\n",
    "            optimizer.zero_grad()\n",
    "            outputs = network(inputs)\n",
    "            loss = criterion(outputs, labels)\n",
    "            loss.backward()\n",
    "            optimizer.step()\n",
    "            running_loss += loss.item()\n",
    "            epoch_loss += loss.item()\n",
    "\n",
    "            if i % BATCH_TO_PRINT == (BATCH_TO_PRINT - 1):\n",
    "                print('[Epoch %d, Batch %5d] loss: %.3f' %\n",
    "                      (epoch + 1, i + 1, running_loss / BATCH_TO_PRINT))\n",
    "                running_loss = 0.0\n",
    "\n",
    "        writer.add_scalar(f'Loss/train:', epoch_loss / len(data_loader), epoch)\n",
    "        print(f\"[{epoch + 1}] loss: {epoch_loss / len(data_loader):.3f}\")\n",
    "\n",
    "    writer.flush()\n",
    "    return network\n",
    "\n",
    "\n",
    "def test_model(data_loader, network):\n",
    "    network = network.to(device)\n",
    "    network.eval()\n",
    "    correct = 0\n",
    "    total = 0\n",
    "    with torch.no_grad():\n",
    "        for data in data_loader:\n",
    "            images, labels = data[0].to(device), data[1].to(device)\n",
    "            outputs = network(images)\n",
    "            _, predicted = torch.max(outputs.data, 1)\n",
    "            total += labels.size(0)\n",
    "            correct += (predicted == labels).sum().item()\n",
    "\n",
    "    print(F'Test accuracy: {(100 * correct / total):.2f}%')"
   ],
   "metadata": {
    "collapsed": false,
    "pycharm": {
     "name": "#%%\n"
    }
   }
  },
  {
   "cell_type": "markdown",
   "source": [
    "## Fine-tuning the model"
   ],
   "metadata": {
    "collapsed": false,
    "pycharm": {
     "name": "#%% md\n"
    }
   }
  },
  {
   "cell_type": "code",
   "execution_count": 8,
   "outputs": [],
   "source": [
    "alexnet = models.alexnet(weights='AlexNet_Weights.DEFAULT')\n",
    "alexnet.classifier.add_module('6', nn.Linear(4096, NUM_CLASSES))\n",
    "\n",
    "optimizer = optim.SGD(alexnet.parameters(), lr=learning_rate, momentum=momentum)"
   ],
   "metadata": {
    "collapsed": false,
    "pycharm": {
     "name": "#%%\n"
    }
   }
  },
  {
   "cell_type": "code",
   "execution_count": 9,
   "outputs": [
    {
     "name": "stdout",
     "output_type": "stream",
     "text": [
      "[Epoch 1, Batch   100] loss: 1.852\n",
      "[Epoch 1, Batch   200] loss: 1.438\n",
      "[Epoch 1, Batch   300] loss: 1.317\n",
      "[Epoch 1, Batch   400] loss: 1.249\n",
      "[Epoch 1, Batch   500] loss: 1.214\n",
      "[Epoch 1, Batch   600] loss: 1.202\n",
      "[Epoch 1, Batch   700] loss: 1.130\n",
      "[Epoch 1, Batch   800] loss: 1.106\n",
      "[Epoch 1, Batch   900] loss: 1.081\n",
      "[Epoch 1, Batch  1000] loss: 1.057\n",
      "[1] loss: 1.264\n",
      "[Epoch 2, Batch   100] loss: 1.062\n",
      "[Epoch 2, Batch   200] loss: 1.001\n",
      "[Epoch 2, Batch   300] loss: 1.005\n",
      "[Epoch 2, Batch   400] loss: 0.998\n",
      "[Epoch 2, Batch   500] loss: 0.995\n",
      "[Epoch 2, Batch   600] loss: 0.950\n",
      "[Epoch 2, Batch   700] loss: 0.942\n",
      "[Epoch 2, Batch   800] loss: 0.922\n",
      "[Epoch 2, Batch   900] loss: 0.927\n",
      "[Epoch 2, Batch  1000] loss: 0.936\n",
      "[2] loss: 0.974\n",
      "[Epoch 3, Batch   100] loss: 0.900\n",
      "[Epoch 3, Batch   200] loss: 0.906\n",
      "[Epoch 3, Batch   300] loss: 0.869\n",
      "[Epoch 3, Batch   400] loss: 0.889\n",
      "[Epoch 3, Batch   500] loss: 0.867\n",
      "[Epoch 3, Batch   600] loss: 0.878\n",
      "[Epoch 3, Batch   700] loss: 0.883\n",
      "[Epoch 3, Batch   800] loss: 0.855\n",
      "[Epoch 3, Batch   900] loss: 0.861\n",
      "[Epoch 3, Batch  1000] loss: 0.862\n",
      "[3] loss: 0.877\n",
      "[Epoch 4, Batch   100] loss: 0.814\n",
      "[Epoch 4, Batch   200] loss: 0.826\n",
      "[Epoch 4, Batch   300] loss: 0.820\n",
      "[Epoch 4, Batch   400] loss: 0.832\n",
      "[Epoch 4, Batch   500] loss: 0.825\n",
      "[Epoch 4, Batch   600] loss: 0.797\n",
      "[Epoch 4, Batch   700] loss: 0.828\n",
      "[Epoch 4, Batch   800] loss: 0.800\n",
      "[Epoch 4, Batch   900] loss: 0.774\n",
      "[Epoch 4, Batch  1000] loss: 0.828\n",
      "[4] loss: 0.814\n",
      "[Epoch 5, Batch   100] loss: 0.760\n",
      "[Epoch 5, Batch   200] loss: 0.785\n",
      "[Epoch 5, Batch   300] loss: 0.773\n",
      "[Epoch 5, Batch   400] loss: 0.755\n",
      "[Epoch 5, Batch   500] loss: 0.771\n",
      "[Epoch 5, Batch   600] loss: 0.748\n",
      "[Epoch 5, Batch   700] loss: 0.767\n",
      "[Epoch 5, Batch   800] loss: 0.771\n",
      "[Epoch 5, Batch   900] loss: 0.758\n",
      "[Epoch 5, Batch  1000] loss: 0.759\n",
      "[5] loss: 0.765\n",
      "[Epoch 6, Batch   100] loss: 0.732\n",
      "[Epoch 6, Batch   200] loss: 0.706\n",
      "[Epoch 6, Batch   300] loss: 0.740\n",
      "[Epoch 6, Batch   400] loss: 0.725\n",
      "[Epoch 6, Batch   500] loss: 0.731\n",
      "[Epoch 6, Batch   600] loss: 0.722\n",
      "[Epoch 6, Batch   700] loss: 0.722\n",
      "[Epoch 6, Batch   800] loss: 0.736\n",
      "[Epoch 6, Batch   900] loss: 0.735\n",
      "[Epoch 6, Batch  1000] loss: 0.741\n",
      "[6] loss: 0.729\n",
      "[Epoch 7, Batch   100] loss: 0.689\n",
      "[Epoch 7, Batch   200] loss: 0.700\n",
      "[Epoch 7, Batch   300] loss: 0.701\n",
      "[Epoch 7, Batch   400] loss: 0.694\n",
      "[Epoch 7, Batch   500] loss: 0.698\n",
      "[Epoch 7, Batch   600] loss: 0.703\n",
      "[Epoch 7, Batch   700] loss: 0.711\n",
      "[Epoch 7, Batch   800] loss: 0.703\n",
      "[Epoch 7, Batch   900] loss: 0.694\n",
      "[Epoch 7, Batch  1000] loss: 0.696\n",
      "[7] loss: 0.699\n",
      "[Epoch 8, Batch   100] loss: 0.678\n",
      "[Epoch 8, Batch   200] loss: 0.678\n",
      "[Epoch 8, Batch   300] loss: 0.669\n",
      "[Epoch 8, Batch   400] loss: 0.685\n",
      "[Epoch 8, Batch   500] loss: 0.657\n",
      "[Epoch 8, Batch   600] loss: 0.643\n",
      "[Epoch 8, Batch   700] loss: 0.686\n",
      "[Epoch 8, Batch   800] loss: 0.685\n",
      "[Epoch 8, Batch   900] loss: 0.691\n",
      "[Epoch 8, Batch  1000] loss: 0.663\n",
      "[8] loss: 0.673\n",
      "[Epoch 9, Batch   100] loss: 0.656\n",
      "[Epoch 9, Batch   200] loss: 0.654\n",
      "[Epoch 9, Batch   300] loss: 0.638\n",
      "[Epoch 9, Batch   400] loss: 0.661\n",
      "[Epoch 9, Batch   500] loss: 0.632\n",
      "[Epoch 9, Batch   600] loss: 0.661\n",
      "[Epoch 9, Batch   700] loss: 0.655\n",
      "[Epoch 9, Batch   800] loss: 0.615\n",
      "[Epoch 9, Batch   900] loss: 0.645\n",
      "[Epoch 9, Batch  1000] loss: 0.670\n",
      "[9] loss: 0.649\n",
      "[Epoch 10, Batch   100] loss: 0.632\n",
      "[Epoch 10, Batch   200] loss: 0.632\n",
      "[Epoch 10, Batch   300] loss: 0.643\n",
      "[Epoch 10, Batch   400] loss: 0.633\n",
      "[Epoch 10, Batch   500] loss: 0.636\n",
      "[Epoch 10, Batch   600] loss: 0.626\n",
      "[Epoch 10, Batch   700] loss: 0.626\n",
      "[Epoch 10, Batch   800] loss: 0.611\n",
      "[Epoch 10, Batch   900] loss: 0.620\n",
      "[Epoch 10, Batch  1000] loss: 0.632\n",
      "[10] loss: 0.629\n"
     ]
    }
   ],
   "source": [
    "trained_network = train_model(train_loader, alexnet, optimizer, loss_function)\n",
    "object_to_save = {\n",
    "    'model_state_dict': trained_network.state_dict(),\n",
    "    'optimizer_state_dict': optimizer.state_dict(),\n",
    "}\n",
    "torch.save(object_to_save, 'alexnet-fine-tuned-cifar-10.pt')"
   ],
   "metadata": {
    "collapsed": false,
    "pycharm": {
     "name": "#%%\n"
    }
   }
  },
  {
   "cell_type": "code",
   "execution_count": 10,
   "outputs": [
    {
     "name": "stdout",
     "output_type": "stream",
     "text": [
      "Test accuracy: 76.18%\n"
     ]
    }
   ],
   "source": [
    "test = test_model(test_loader, trained_network)"
   ],
   "metadata": {
    "collapsed": false,
    "pycharm": {
     "name": "#%%\n"
    }
   }
  },
  {
   "cell_type": "markdown",
   "source": [
    "## Feature extraction"
   ],
   "metadata": {
    "collapsed": false,
    "pycharm": {
     "name": "#%% md\n"
    }
   }
  },
  {
   "cell_type": "code",
   "execution_count": 11,
   "outputs": [
    {
     "name": "stdout",
     "output_type": "stream",
     "text": [
      "[Epoch 1, Batch   100] loss: 1.880\n",
      "[Epoch 1, Batch   200] loss: 1.500\n",
      "[Epoch 1, Batch   300] loss: 1.457\n",
      "[Epoch 1, Batch   400] loss: 1.379\n",
      "[Epoch 1, Batch   500] loss: 1.405\n",
      "[Epoch 1, Batch   600] loss: 1.368\n",
      "[Epoch 1, Batch   700] loss: 1.365\n",
      "[Epoch 1, Batch   800] loss: 1.334\n",
      "[Epoch 1, Batch   900] loss: 1.338\n",
      "[Epoch 1, Batch  1000] loss: 1.302\n",
      "[1] loss: 1.433\n",
      "[Epoch 2, Batch   100] loss: 1.313\n",
      "[Epoch 2, Batch   200] loss: 1.293\n",
      "[Epoch 2, Batch   300] loss: 1.294\n",
      "[Epoch 2, Batch   400] loss: 1.266\n",
      "[Epoch 2, Batch   500] loss: 1.277\n",
      "[Epoch 2, Batch   600] loss: 1.275\n",
      "[Epoch 2, Batch   700] loss: 1.272\n",
      "[Epoch 2, Batch   800] loss: 1.276\n",
      "[Epoch 2, Batch   900] loss: 1.268\n",
      "[Epoch 2, Batch  1000] loss: 1.264\n",
      "[2] loss: 1.280\n",
      "[Epoch 3, Batch   100] loss: 1.262\n",
      "[Epoch 3, Batch   200] loss: 1.223\n",
      "[Epoch 3, Batch   300] loss: 1.233\n",
      "[Epoch 3, Batch   400] loss: 1.233\n",
      "[Epoch 3, Batch   500] loss: 1.251\n",
      "[Epoch 3, Batch   600] loss: 1.235\n",
      "[Epoch 3, Batch   700] loss: 1.224\n",
      "[Epoch 3, Batch   800] loss: 1.259\n",
      "[Epoch 3, Batch   900] loss: 1.229\n",
      "[Epoch 3, Batch  1000] loss: 1.196\n",
      "[3] loss: 1.235\n",
      "[Epoch 4, Batch   100] loss: 1.221\n",
      "[Epoch 4, Batch   200] loss: 1.231\n",
      "[Epoch 4, Batch   300] loss: 1.198\n",
      "[Epoch 4, Batch   400] loss: 1.214\n",
      "[Epoch 4, Batch   500] loss: 1.229\n",
      "[Epoch 4, Batch   600] loss: 1.197\n",
      "[Epoch 4, Batch   700] loss: 1.203\n",
      "[Epoch 4, Batch   800] loss: 1.161\n",
      "[Epoch 4, Batch   900] loss: 1.193\n",
      "[Epoch 4, Batch  1000] loss: 1.201\n",
      "[4] loss: 1.205\n",
      "[Epoch 5, Batch   100] loss: 1.182\n",
      "[Epoch 5, Batch   200] loss: 1.175\n",
      "[Epoch 5, Batch   300] loss: 1.177\n",
      "[Epoch 5, Batch   400] loss: 1.179\n",
      "[Epoch 5, Batch   500] loss: 1.186\n",
      "[Epoch 5, Batch   600] loss: 1.207\n",
      "[Epoch 5, Batch   700] loss: 1.143\n",
      "[Epoch 5, Batch   800] loss: 1.201\n",
      "[Epoch 5, Batch   900] loss: 1.169\n",
      "[Epoch 5, Batch  1000] loss: 1.198\n",
      "[5] loss: 1.182\n",
      "[Epoch 6, Batch   100] loss: 1.159\n",
      "[Epoch 6, Batch   200] loss: 1.164\n",
      "[Epoch 6, Batch   300] loss: 1.182\n",
      "[Epoch 6, Batch   400] loss: 1.170\n",
      "[Epoch 6, Batch   500] loss: 1.202\n",
      "[Epoch 6, Batch   600] loss: 1.149\n",
      "[Epoch 6, Batch   700] loss: 1.166\n",
      "[Epoch 6, Batch   800] loss: 1.157\n",
      "[Epoch 6, Batch   900] loss: 1.154\n",
      "[Epoch 6, Batch  1000] loss: 1.163\n",
      "[6] loss: 1.167\n",
      "[Epoch 7, Batch   100] loss: 1.134\n",
      "[Epoch 7, Batch   200] loss: 1.167\n",
      "[Epoch 7, Batch   300] loss: 1.134\n",
      "[Epoch 7, Batch   400] loss: 1.149\n",
      "[Epoch 7, Batch   500] loss: 1.154\n",
      "[Epoch 7, Batch   600] loss: 1.154\n",
      "[Epoch 7, Batch   700] loss: 1.156\n",
      "[Epoch 7, Batch   800] loss: 1.159\n",
      "[Epoch 7, Batch   900] loss: 1.138\n",
      "[Epoch 7, Batch  1000] loss: 1.151\n",
      "[7] loss: 1.150\n",
      "[Epoch 8, Batch   100] loss: 1.142\n",
      "[Epoch 8, Batch   200] loss: 1.142\n",
      "[Epoch 8, Batch   300] loss: 1.146\n",
      "[Epoch 8, Batch   400] loss: 1.140\n",
      "[Epoch 8, Batch   500] loss: 1.127\n",
      "[Epoch 8, Batch   600] loss: 1.158\n",
      "[Epoch 8, Batch   700] loss: 1.137\n",
      "[Epoch 8, Batch   800] loss: 1.157\n",
      "[Epoch 8, Batch   900] loss: 1.137\n",
      "[Epoch 8, Batch  1000] loss: 1.129\n",
      "[8] loss: 1.141\n",
      "[Epoch 9, Batch   100] loss: 1.110\n",
      "[Epoch 9, Batch   200] loss: 1.155\n",
      "[Epoch 9, Batch   300] loss: 1.127\n",
      "[Epoch 9, Batch   400] loss: 1.116\n",
      "[Epoch 9, Batch   500] loss: 1.101\n",
      "[Epoch 9, Batch   600] loss: 1.125\n",
      "[Epoch 9, Batch   700] loss: 1.161\n",
      "[Epoch 9, Batch   800] loss: 1.115\n",
      "[Epoch 9, Batch   900] loss: 1.136\n",
      "[Epoch 9, Batch  1000] loss: 1.127\n",
      "[9] loss: 1.127\n",
      "[Epoch 10, Batch   100] loss: 1.103\n",
      "[Epoch 10, Batch   200] loss: 1.105\n",
      "[Epoch 10, Batch   300] loss: 1.112\n",
      "[Epoch 10, Batch   400] loss: 1.126\n",
      "[Epoch 10, Batch   500] loss: 1.139\n",
      "[Epoch 10, Batch   600] loss: 1.135\n",
      "[Epoch 10, Batch   700] loss: 1.128\n",
      "[Epoch 10, Batch   800] loss: 1.113\n",
      "[Epoch 10, Batch   900] loss: 1.120\n",
      "[Epoch 10, Batch  1000] loss: 1.131\n",
      "[10] loss: 1.121\n"
     ]
    }
   ],
   "source": [
    "alexnet = models.alexnet(weights='AlexNet_Weights.DEFAULT')\n",
    "\n",
    "# Freeze all the layers in the feature extractor\n",
    "for param in alexnet.features.parameters():\n",
    "    param.requires_grad = False\n",
    "\n",
    "alexnet.classifier.add_module('6', nn.Linear(4096, NUM_CLASSES))\n",
    "\n",
    "optimizer = optim.SGD(alexnet.parameters(), lr=learning_rate, momentum=momentum)\n",
    "trained_network = train_model(train_loader, alexnet, optimizer, loss_function)\n",
    "object_to_save = {\n",
    "    'model_state_dict': trained_network.state_dict(),\n",
    "    'optimizer_state_dict': optimizer.state_dict(),\n",
    "}\n",
    "torch.save(object_to_save, 'alexnet-feature-extracted-cifar-10.pt')"
   ],
   "metadata": {
    "collapsed": false,
    "pycharm": {
     "name": "#%%\n"
    }
   }
  },
  {
   "cell_type": "code",
   "execution_count": 12,
   "outputs": [
    {
     "name": "stdout",
     "output_type": "stream",
     "text": [
      "Test accuracy: 62.35%\n"
     ]
    }
   ],
   "source": [
    "test_model(test_loader, trained_network)"
   ],
   "metadata": {
    "collapsed": false,
    "pycharm": {
     "name": "#%%\n"
    }
   }
  },
  {
   "cell_type": "markdown",
   "source": [
    "# Transfer learning from MNIST to SVHN"
   ],
   "metadata": {
    "collapsed": false,
    "pycharm": {
     "name": "#%% md\n"
    }
   }
  },
  {
   "cell_type": "code",
   "execution_count": 12,
   "outputs": [],
   "source": [
    "MNIST_IMAGE_SIZE = 28\n",
    "\n",
    "num_input_channels = 1\n",
    "num_output_classes = 10\n",
    "\n",
    "num_conv1_channels = 32\n",
    "conv_kernel_size = 3\n",
    "conv_stride = 1\n",
    "conv_padding = 1\n",
    "pool_kernel_size = 2\n",
    "num_conv2_channels = 64\n",
    "\n",
    "fc1_output_size = 128\n",
    "\n",
    "dropout_rate = 0.25\n",
    "\n",
    "class CNN(nn.Module):\n",
    "    def __init__(self):\n",
    "        super().__init__()\n",
    "        self.conv1 = nn.Conv2d(\n",
    "            in_channels=num_input_channels,\n",
    "            out_channels=num_conv1_channels,\n",
    "            kernel_size=conv_kernel_size,\n",
    "            stride=conv_stride,\n",
    "            padding=conv_padding,\n",
    "        )\n",
    "        self.conv2 = nn.Conv2d(\n",
    "            in_channels=num_conv1_channels,\n",
    "            out_channels=num_conv2_channels,\n",
    "            kernel_size=conv_kernel_size,\n",
    "            stride=conv_stride,\n",
    "            padding=conv_padding,\n",
    "        )\n",
    "        self.relu = nn.ReLU()\n",
    "        self.max_pool = nn.MaxPool2d(kernel_size=pool_kernel_size)\n",
    "        self.dropout = nn.Dropout(dropout_rate)\n",
    "        self.fc1 = nn.Linear(\n",
    "            num_conv2_channels * MNIST_IMAGE_SIZE**2 // pool_kernel_size**4,\n",
    "            fc1_output_size,\n",
    "        )\n",
    "        self.fc2 = nn.Linear(fc1_output_size, num_output_classes)\n",
    "\n",
    "    def forward(self, x):\n",
    "        x = self.conv1(x)\n",
    "        x = self.relu(x)\n",
    "        x = self.max_pool(x)\n",
    "        x = self.conv2(x)\n",
    "        x = self.relu(x)\n",
    "        x = self.max_pool(x)\n",
    "        x = torch.flatten(x, start_dim=1)\n",
    "        x = self.fc1(x)\n",
    "        x = self.relu(x)\n",
    "        x = self.dropout(x)\n",
    "        x = self.fc2(x)\n",
    "        return x"
   ],
   "metadata": {
    "collapsed": false,
    "pycharm": {
     "name": "#%%\n"
    }
   }
  },
  {
   "cell_type": "markdown",
   "source": [
    "Set up the dataset and data loader"
   ],
   "metadata": {
    "collapsed": false,
    "pycharm": {
     "name": "#%% md\n"
    }
   }
  },
  {
   "cell_type": "code",
   "execution_count": 15,
   "outputs": [
    {
     "name": "stdout",
     "output_type": "stream",
     "text": [
      "Downloading http://yann.lecun.com/exdb/mnist/train-images-idx3-ubyte.gz\n"
     ]
    },
    {
     "name": "stderr",
     "output_type": "stream",
     "text": [
      "15.5%"
     ]
    },
    {
     "name": "stdout",
     "output_type": "stream",
     "text": [
      "Downloading http://yann.lecun.com/exdb/mnist/train-images-idx3-ubyte.gz to ./data/MNIST/raw/train-images-idx3-ubyte.gz\n"
     ]
    },
    {
     "name": "stderr",
     "output_type": "stream",
     "text": [
      "100.0%\n"
     ]
    },
    {
     "name": "stdout",
     "output_type": "stream",
     "text": [
      "Extracting ./data/MNIST/raw/train-images-idx3-ubyte.gz to ./data/MNIST/raw\n",
      "\n",
      "Downloading http://yann.lecun.com/exdb/mnist/train-labels-idx1-ubyte.gz\n"
     ]
    },
    {
     "name": "stderr",
     "output_type": "stream",
     "text": [
      "100.0%"
     ]
    },
    {
     "name": "stdout",
     "output_type": "stream",
     "text": [
      "Downloading http://yann.lecun.com/exdb/mnist/train-labels-idx1-ubyte.gz to ./data/MNIST/raw/train-labels-idx1-ubyte.gz\n",
      "Extracting ./data/MNIST/raw/train-labels-idx1-ubyte.gz to ./data/MNIST/raw\n",
      "\n",
      "Downloading http://yann.lecun.com/exdb/mnist/t10k-images-idx3-ubyte.gz\n"
     ]
    },
    {
     "name": "stderr",
     "output_type": "stream",
     "text": [
      "\n",
      "77.5%"
     ]
    },
    {
     "name": "stdout",
     "output_type": "stream",
     "text": [
      "Downloading http://yann.lecun.com/exdb/mnist/t10k-images-idx3-ubyte.gz to ./data/MNIST/raw/t10k-images-idx3-ubyte.gz\n"
     ]
    },
    {
     "name": "stderr",
     "output_type": "stream",
     "text": [
      "100.0%\n"
     ]
    },
    {
     "name": "stdout",
     "output_type": "stream",
     "text": [
      "Extracting ./data/MNIST/raw/t10k-images-idx3-ubyte.gz to ./data/MNIST/raw\n",
      "\n",
      "Downloading http://yann.lecun.com/exdb/mnist/t10k-labels-idx1-ubyte.gz\n"
     ]
    },
    {
     "name": "stderr",
     "output_type": "stream",
     "text": [
      "100.0%"
     ]
    },
    {
     "name": "stdout",
     "output_type": "stream",
     "text": [
      "Downloading http://yann.lecun.com/exdb/mnist/t10k-labels-idx1-ubyte.gz to ./data/MNIST/raw/t10k-labels-idx1-ubyte.gz\n",
      "Extracting ./data/MNIST/raw/t10k-labels-idx1-ubyte.gz to ./data/MNIST/raw\n",
      "\n"
     ]
    },
    {
     "name": "stderr",
     "output_type": "stream",
     "text": [
      "\n"
     ]
    }
   ],
   "source": [
    "MNIST_MEAN, MNIST_STD = (0.1307,), (0.3081,)\n",
    "transform = transforms.Compose(\n",
    "    [transforms.ToTensor(), transforms.Normalize(MNIST_MEAN, MNIST_STD)]\n",
    ")\n",
    "mnist_training_data = datasets.MNIST(root='./data', train=True, transform=transform, download=True)\n",
    "mnist_test_data = datasets.MNIST(root='./data', train=False, transform=transform, download=True)\n",
    "train_loader = torch.utils.data.DataLoader(dataset=mnist_training_data, batch_size=64, shuffle=True)\n",
    "test_loader = torch.utils.data.DataLoader(dataset=mnist_test_data, batch_size=64, shuffle=False)"
   ],
   "metadata": {
    "collapsed": false,
    "pycharm": {
     "name": "#%%\n"
    }
   }
  },
  {
   "cell_type": "markdown",
   "source": [
    "# Instantiate the model and set up the optimizer and loss function"
   ],
   "metadata": {
    "collapsed": false,
    "pycharm": {
     "name": "#%% md\n"
    }
   }
  },
  {
   "cell_type": "code",
   "execution_count": 16,
   "outputs": [],
   "source": [
    "learning_rate = 1e-3\n",
    "\n",
    "my_model = CNN()\n",
    "optimizer = optim.Adam(my_model.parameters(), lr=learning_rate)\n",
    "criterion = nn.CrossEntropyLoss()"
   ],
   "metadata": {
    "collapsed": false,
    "pycharm": {
     "name": "#%%\n"
    }
   }
  },
  {
   "cell_type": "code",
   "execution_count": 17,
   "outputs": [
    {
     "name": "stdout",
     "output_type": "stream",
     "text": [
      "[Epoch 1, Batch   100] loss: 0.638\n",
      "[Epoch 1, Batch   200] loss: 0.175\n",
      "[Epoch 1, Batch   300] loss: 0.145\n",
      "[Epoch 1, Batch   400] loss: 0.119\n",
      "[Epoch 1, Batch   500] loss: 0.094\n",
      "[Epoch 1, Batch   600] loss: 0.093\n",
      "[Epoch 1, Batch   700] loss: 0.089\n",
      "[Epoch 1, Batch   800] loss: 0.080\n",
      "[Epoch 1, Batch   900] loss: 0.071\n",
      "[1] loss: 0.163\n",
      "[Epoch 2, Batch   100] loss: 0.062\n",
      "[Epoch 2, Batch   200] loss: 0.061\n",
      "[Epoch 2, Batch   300] loss: 0.060\n",
      "[Epoch 2, Batch   400] loss: 0.053\n",
      "[Epoch 2, Batch   500] loss: 0.065\n",
      "[Epoch 2, Batch   600] loss: 0.052\n",
      "[Epoch 2, Batch   700] loss: 0.055\n",
      "[Epoch 2, Batch   800] loss: 0.048\n",
      "[Epoch 2, Batch   900] loss: 0.052\n",
      "[2] loss: 0.056\n",
      "[Epoch 3, Batch   100] loss: 0.034\n",
      "[Epoch 3, Batch   200] loss: 0.036\n",
      "[Epoch 3, Batch   300] loss: 0.040\n",
      "[Epoch 3, Batch   400] loss: 0.036\n",
      "[Epoch 3, Batch   500] loss: 0.038\n",
      "[Epoch 3, Batch   600] loss: 0.043\n",
      "[Epoch 3, Batch   700] loss: 0.037\n",
      "[Epoch 3, Batch   800] loss: 0.041\n",
      "[Epoch 3, Batch   900] loss: 0.048\n",
      "[3] loss: 0.039\n",
      "[Epoch 4, Batch   100] loss: 0.031\n",
      "[Epoch 4, Batch   200] loss: 0.024\n",
      "[Epoch 4, Batch   300] loss: 0.034\n",
      "[Epoch 4, Batch   400] loss: 0.035\n",
      "[Epoch 4, Batch   500] loss: 0.033\n",
      "[Epoch 4, Batch   600] loss: 0.029\n",
      "[Epoch 4, Batch   700] loss: 0.035\n",
      "[Epoch 4, Batch   800] loss: 0.035\n",
      "[Epoch 4, Batch   900] loss: 0.033\n",
      "[4] loss: 0.032\n"
     ]
    }
   ],
   "source": [
    "trained_network = train_model(train_loader, my_model, optimizer, loss_function, num_epochs=4)"
   ],
   "metadata": {
    "collapsed": false,
    "pycharm": {
     "name": "#%%\n"
    }
   }
  },
  {
   "cell_type": "code",
   "execution_count": 22,
   "outputs": [],
   "source": [
    "torch.save(trained_network.state_dict(), 'my-cnn-mnist.pt')"
   ],
   "metadata": {
    "collapsed": false,
    "pycharm": {
     "name": "#%%\n"
    }
   }
  },
  {
   "cell_type": "code",
   "execution_count": 23,
   "outputs": [
    {
     "name": "stdout",
     "output_type": "stream",
     "text": [
      "Test accuracy: 98.91%\n"
     ]
    }
   ],
   "source": [
    "test_model(test_loader, trained_network)"
   ],
   "metadata": {
    "collapsed": false,
    "pycharm": {
     "name": "#%%\n"
    }
   }
  },
  {
   "cell_type": "markdown",
   "source": [
    "## Use pre-trained model for SVNH dataset"
   ],
   "metadata": {
    "collapsed": false,
    "pycharm": {
     "name": "#%% md\n"
    }
   }
  },
  {
   "cell_type": "code",
   "execution_count": 41,
   "outputs": [],
   "source": [
    "pretrained_model = CNN()\n",
    "pretrained_model.load_state_dict(torch.load('my-cnn-mnist.pt'))\n",
    "\n",
    "# Freeze the weights of the pretrained model\n",
    "for param in pretrained_model.parameters():\n",
    "    param.requires_grad = False"
   ],
   "metadata": {
    "collapsed": false,
    "pycharm": {
     "name": "#%%\n"
    }
   }
  },
  {
   "cell_type": "markdown",
   "source": [
    "Modify the last layer of the model to output 10 classes instead of 2"
   ],
   "metadata": {
    "collapsed": false,
    "pycharm": {
     "name": "#%% md\n"
    }
   }
  },
  {
   "cell_type": "code",
   "execution_count": 46,
   "outputs": [],
   "source": [
    "pretrained_model.fc1.requires_grad = True\n",
    "\n",
    "# Modify the first convolutional layer to accept 3 channels instead of 1\n",
    "pretrained_model.conv1 = nn.Conv2d(\n",
    "    in_channels=3,\n",
    "    out_channels=num_conv1_channels,\n",
    "    kernel_size=conv_kernel_size,\n",
    "    stride=conv_stride,\n",
    "    padding=conv_padding,\n",
    ")\n",
    "SVHN_IMAGE_SIZE = 32\n",
    "pretrained_model.fc1 = nn.Linear(\n",
    "    num_conv2_channels * SVHN_IMAGE_SIZE**2 // pool_kernel_size**4,\n",
    "    fc1_output_size,\n",
    ")"
   ],
   "metadata": {
    "collapsed": false,
    "pycharm": {
     "name": "#%%\n"
    }
   }
  },
  {
   "cell_type": "markdown",
   "source": [
    "Set up the dataset and data loader"
   ],
   "metadata": {
    "collapsed": false,
    "pycharm": {
     "name": "#%% md\n"
    }
   }
  },
  {
   "cell_type": "code",
   "execution_count": 47,
   "outputs": [
    {
     "name": "stdout",
     "output_type": "stream",
     "text": [
      "Using downloaded and verified file: ./data/train_32x32.mat\n",
      "Using downloaded and verified file: ./data/test_32x32.mat\n"
     ]
    }
   ],
   "source": [
    "transform = transforms.Compose([\n",
    "    transforms.Resize((SVHN_IMAGE_SIZE, SVHN_IMAGE_SIZE)),\n",
    "    transforms.ToTensor(),\n",
    "    transforms.Normalize((0.5, 0.5, 0.5), (0.5, 0.5, 0.5)),\n",
    "])\n",
    "svhn_train_data = datasets.SVHN(root='./data', split='train', transform=transform, download=True)\n",
    "svhn_test_data = datasets.SVHN(root='./data', split='test', transform=transform, download=True)\n",
    "svhn_train_loader = torch.utils.data.DataLoader(\n",
    "    dataset=svhn_train_data, batch_size=64, shuffle=True\n",
    ")\n",
    "svhn_test_loader = torch.utils.data.DataLoader(\n",
    "    dataset=svhn_test_data, batch_size=64, shuffle=False\n",
    ")"
   ],
   "metadata": {
    "collapsed": false,
    "pycharm": {
     "name": "#%%\n"
    }
   }
  },
  {
   "cell_type": "markdown",
   "source": [
    "Set up the optimizer and loss function"
   ],
   "metadata": {
    "collapsed": false,
    "pycharm": {
     "name": "#%% md\n"
    }
   }
  },
  {
   "cell_type": "code",
   "execution_count": 48,
   "outputs": [],
   "source": [
    "optimizer = optim.Adam(pretrained_model.fc2.parameters(), lr=learning_rate)"
   ],
   "metadata": {
    "collapsed": false,
    "pycharm": {
     "name": "#%%\n"
    }
   }
  },
  {
   "cell_type": "code",
   "execution_count": 49,
   "outputs": [
    {
     "name": "stdout",
     "output_type": "stream",
     "text": [
      "[Epoch 1, Batch   100] loss: 2.304\n",
      "[Epoch 1, Batch   200] loss: 2.306\n",
      "[Epoch 1, Batch   300] loss: 2.305\n",
      "[Epoch 1, Batch   400] loss: 2.306\n",
      "[Epoch 1, Batch   500] loss: 2.306\n",
      "[Epoch 1, Batch   600] loss: 2.306\n",
      "[Epoch 1, Batch   700] loss: 2.306\n",
      "[Epoch 1, Batch   800] loss: 2.305\n",
      "[Epoch 1, Batch   900] loss: 2.305\n",
      "[Epoch 1, Batch  1000] loss: 2.305\n",
      "[Epoch 1, Batch  1100] loss: 2.307\n",
      "[1] loss: 2.306\n",
      "[Epoch 2, Batch   100] loss: 2.307\n",
      "[Epoch 2, Batch   200] loss: 2.305\n",
      "[Epoch 2, Batch   300] loss: 2.306\n",
      "[Epoch 2, Batch   400] loss: 2.305\n",
      "[Epoch 2, Batch   500] loss: 2.306\n",
      "[Epoch 2, Batch   600] loss: 2.305\n",
      "[Epoch 2, Batch   700] loss: 2.306\n",
      "[Epoch 2, Batch   800] loss: 2.306\n",
      "[Epoch 2, Batch   900] loss: 2.305\n",
      "[Epoch 2, Batch  1000] loss: 2.305\n",
      "[Epoch 2, Batch  1100] loss: 2.305\n",
      "[2] loss: 2.306\n",
      "[Epoch 3, Batch   100] loss: 2.306\n",
      "[Epoch 3, Batch   200] loss: 2.306\n",
      "[Epoch 3, Batch   300] loss: 2.305\n",
      "[Epoch 3, Batch   400] loss: 2.305\n",
      "[Epoch 3, Batch   500] loss: 2.305\n",
      "[Epoch 3, Batch   600] loss: 2.305\n",
      "[Epoch 3, Batch   700] loss: 2.306\n",
      "[Epoch 3, Batch   800] loss: 2.306\n",
      "[Epoch 3, Batch   900] loss: 2.305\n",
      "[Epoch 3, Batch  1000] loss: 2.305\n",
      "[Epoch 3, Batch  1100] loss: 2.306\n",
      "[3] loss: 2.306\n",
      "[Epoch 4, Batch   100] loss: 2.305\n",
      "[Epoch 4, Batch   200] loss: 2.306\n",
      "[Epoch 4, Batch   300] loss: 2.306\n",
      "[Epoch 4, Batch   400] loss: 2.304\n",
      "[Epoch 4, Batch   500] loss: 2.306\n",
      "[Epoch 4, Batch   600] loss: 2.307\n",
      "[Epoch 4, Batch   700] loss: 2.305\n",
      "[Epoch 4, Batch   800] loss: 2.305\n",
      "[Epoch 4, Batch   900] loss: 2.305\n",
      "[Epoch 4, Batch  1000] loss: 2.306\n",
      "[Epoch 4, Batch  1100] loss: 2.307\n",
      "[4] loss: 2.306\n"
     ]
    }
   ],
   "source": [
    "trained_network = train_model(\n",
    "    svhn_train_loader, pretrained_model, optimizer, loss_function, num_epochs=4\n",
    ")\n",
    "torch.save(trained_network.state_dict(), 'my-cnn-mnist-pretrained-svhn.pt')"
   ],
   "metadata": {
    "collapsed": false,
    "pycharm": {
     "name": "#%%\n"
    }
   }
  },
  {
   "cell_type": "code",
   "execution_count": 50,
   "outputs": [
    {
     "name": "stdout",
     "output_type": "stream",
     "text": [
      "Test accuracy: 6.99%\n"
     ]
    }
   ],
   "source": [
    "test_model(svhn_test_loader, trained_network)"
   ],
   "metadata": {
    "collapsed": false,
    "pycharm": {
     "name": "#%%\n"
    }
   }
  },
  {
   "cell_type": "markdown",
   "source": [
    "## Transfer learning"
   ],
   "metadata": {
    "collapsed": false,
    "pycharm": {
     "name": "#%% md\n"
    }
   }
  },
  {
   "cell_type": "code",
   "execution_count": 52,
   "outputs": [
    {
     "name": "stdout",
     "output_type": "stream",
     "text": [
      "[Epoch 1, Batch   100] loss: 2.292\n",
      "[Epoch 1, Batch   200] loss: 2.266\n",
      "[Epoch 1, Batch   300] loss: 2.254\n",
      "[Epoch 1, Batch   400] loss: 2.239\n",
      "[Epoch 1, Batch   500] loss: 2.246\n",
      "[Epoch 1, Batch   600] loss: 2.242\n",
      "[Epoch 1, Batch   700] loss: 2.240\n",
      "[Epoch 1, Batch   800] loss: 2.235\n",
      "[Epoch 1, Batch   900] loss: 2.231\n",
      "[Epoch 1, Batch  1000] loss: 2.236\n",
      "[Epoch 1, Batch  1100] loss: 2.237\n",
      "[1] loss: 2.246\n",
      "[Epoch 2, Batch   100] loss: 2.234\n",
      "[Epoch 2, Batch   200] loss: 2.235\n",
      "[Epoch 2, Batch   300] loss: 2.234\n",
      "[Epoch 2, Batch   400] loss: 2.235\n",
      "[Epoch 2, Batch   500] loss: 2.239\n",
      "[Epoch 2, Batch   600] loss: 2.238\n",
      "[Epoch 2, Batch   700] loss: 2.229\n",
      "[Epoch 2, Batch   800] loss: 2.230\n",
      "[Epoch 2, Batch   900] loss: 2.239\n",
      "[Epoch 2, Batch  1000] loss: 2.226\n",
      "[Epoch 2, Batch  1100] loss: 2.234\n",
      "[2] loss: 2.235\n",
      "[Epoch 3, Batch   100] loss: 2.240\n",
      "[Epoch 3, Batch   200] loss: 2.230\n",
      "[Epoch 3, Batch   300] loss: 2.229\n",
      "[Epoch 3, Batch   400] loss: 2.243\n",
      "[Epoch 3, Batch   500] loss: 2.228\n",
      "[Epoch 3, Batch   600] loss: 2.229\n",
      "[Epoch 3, Batch   700] loss: 2.235\n",
      "[Epoch 3, Batch   800] loss: 2.233\n",
      "[Epoch 3, Batch   900] loss: 2.232\n",
      "[Epoch 3, Batch  1000] loss: 2.223\n",
      "[Epoch 3, Batch  1100] loss: 2.237\n",
      "[3] loss: 2.233\n",
      "[Epoch 4, Batch   100] loss: 2.223\n",
      "[Epoch 4, Batch   200] loss: 2.236\n",
      "[Epoch 4, Batch   300] loss: 2.229\n",
      "[Epoch 4, Batch   400] loss: 2.238\n",
      "[Epoch 4, Batch   500] loss: 2.231\n",
      "[Epoch 4, Batch   600] loss: 2.227\n",
      "[Epoch 4, Batch   700] loss: 2.229\n",
      "[Epoch 4, Batch   800] loss: 2.234\n",
      "[Epoch 4, Batch   900] loss: 2.240\n",
      "[Epoch 4, Batch  1000] loss: 2.236\n",
      "[Epoch 4, Batch  1100] loss: 2.223\n",
      "[4] loss: 2.232\n"
     ]
    }
   ],
   "source": [
    "pretrained_model = CNN()\n",
    "pretrained_model.load_state_dict(torch.load('my-cnn-mnist.pt'))\n",
    "\n",
    "pretrained_model.conv1 = nn.Conv2d(\n",
    "    in_channels=3,\n",
    "    out_channels=num_conv1_channels,\n",
    "    kernel_size=conv_kernel_size,\n",
    "    stride=conv_stride,\n",
    "    padding=conv_padding,\n",
    ")\n",
    "SVHN_IMAGE_SIZE = 32\n",
    "pretrained_model.fc1 = nn.Linear(\n",
    "    num_conv2_channels * SVHN_IMAGE_SIZE**2 // pool_kernel_size**4,\n",
    "    fc1_output_size,\n",
    ")\n",
    "optimizer = optim.Adam(pretrained_model.fc2.parameters(), lr=learning_rate)\n",
    "trained_network = train_model(\n",
    "    svhn_train_loader, pretrained_model, optimizer, loss_function, num_epochs=4\n",
    ")\n",
    "torch.save(trained_network.state_dict(), 'my-cnn-mnist-transfer-svhn.pt')"
   ],
   "metadata": {
    "collapsed": false,
    "pycharm": {
     "name": "#%%\n"
    }
   }
  },
  {
   "cell_type": "code",
   "execution_count": 53,
   "outputs": [
    {
     "name": "stdout",
     "output_type": "stream",
     "text": [
      "Test accuracy: 19.59%\n"
     ]
    }
   ],
   "source": [
    "test_model(svhn_test_loader, trained_network)"
   ],
   "metadata": {
    "collapsed": false,
    "pycharm": {
     "name": "#%%\n"
    }
   }
  },
  {
   "cell_type": "markdown",
   "source": [],
   "metadata": {
    "collapsed": false,
    "pycharm": {
     "name": "#%% md\n"
    }
   }
  }
 ],
 "metadata": {
  "kernelspec": {
   "display_name": "Python 3 (ipykernel)",
   "language": "python",
   "name": "python3"
  },
  "language_info": {
   "codemirror_mode": {
    "name": "ipython",
    "version": 3
   },
   "file_extension": ".py",
   "mimetype": "text/x-python",
   "name": "python",
   "nbconvert_exporter": "python",
   "pygments_lexer": "ipython3",
   "version": "3.9.13"
  }
 },
 "nbformat": 4,
 "nbformat_minor": 5
}