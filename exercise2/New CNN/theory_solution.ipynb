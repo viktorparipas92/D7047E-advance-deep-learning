{
 "cells": [
  {
   "cell_type": "code",
   "execution_count": 1,
   "id": "78679c5b",
   "metadata": {},
   "outputs": [],
   "source": [
    "import numpy as np\n",
    "import math"
   ]
  },
  {
   "cell_type": "code",
   "execution_count": 2,
   "id": "455aa0f9",
   "metadata": {},
   "outputs": [],
   "source": [
    "g = np.array([0, 1, 0])\n",
    "y = np.array([0.25, 0.6, 0.15])"
   ]
  },
  {
   "cell_type": "code",
   "execution_count": 10,
   "id": "ba357f08",
   "metadata": {},
   "outputs": [],
   "source": [
    "def cross_entropy_loss(y, g):\n",
    "\n",
    "    loss = 0\n",
    "    for yi, gi in zip(y, g):\n",
    "        loss += gi * (math.log(yi))\n",
    "    return -loss"
   ]
  },
  {
   "cell_type": "code",
   "execution_count": 11,
   "id": "3cf6398b",
   "metadata": {},
   "outputs": [],
   "source": [
    "def mean_squared_error_loss(y, g):\n",
    "\n",
    "    n = len(y)\n",
    "    loss = 0\n",
    "    for yi, gi in zip(y, g):\n",
    "        loss += (yi - gi) ** 2\n",
    "    return loss / n"
   ]
  },
  {
   "cell_type": "code",
   "execution_count": 12,
   "id": "3ff69031",
   "metadata": {},
   "outputs": [],
   "source": [
    "def hinge_loss(y, j):\n",
    "    correct_index = np.where(j == 1)[0]\n",
    "    hinge_loss = 0\n",
    "    for i, yi in enumerate(y):\n",
    "        if i != correct_index:\n",
    "            hinge_loss += max(0, yi - y[correct_index] + 1)\n",
    "    return hinge_loss"
   ]
  },
  {
   "cell_type": "code",
   "execution_count": 13,
   "id": "b8971085",
   "metadata": {},
   "outputs": [
    {
     "name": "stdout",
     "output_type": "stream",
     "text": [
      "Cross Entropy Loss: 0.51\n",
      "Mean Squared Error: 0.08\n",
      "Hinge Loss: 1.20\n"
     ]
    }
   ],
   "source": [
    "\n",
    "cross = cross_entropy_loss(y,g)\n",
    "print('Cross Entropy Loss: %.2f' % cross)\n",
    "\n",
    "mse = mean_squared_error_loss(y,g)\n",
    "print('Mean Squared Error: %.2f' % mse)\n",
    "\n",
    "hinge = hinge_loss(y,g)\n",
    "print('Hinge Loss: %.2f' % hinge)"
   ]
  },
  {
   "cell_type": "code",
   "execution_count": null,
   "id": "1ff960f1",
   "metadata": {},
   "outputs": [],
   "source": []
  },
  {
   "cell_type": "code",
   "execution_count": null,
   "id": "9b4ad5f3",
   "metadata": {},
   "outputs": [],
   "source": []
  }
 ],
 "metadata": {
  "kernelspec": {
   "display_name": "Python 3 (ipykernel)",
   "language": "python",
   "name": "python3"
  },
  "language_info": {
   "codemirror_mode": {
    "name": "ipython",
    "version": 3
   },
   "file_extension": ".py",
   "mimetype": "text/x-python",
   "name": "python",
   "nbconvert_exporter": "python",
   "pygments_lexer": "ipython3",
   "version": "3.9.13"
  }
 },
 "nbformat": 4,
 "nbformat_minor": 5
}
