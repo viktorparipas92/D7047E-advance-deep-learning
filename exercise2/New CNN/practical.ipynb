{
 "cells": [
  {
   "cell_type": "code",
   "execution_count": 4,
   "id": "054ccfef",
   "metadata": {
    "pycharm": {
     "name": "#%%\n"
    }
   },
   "outputs": [],
   "source": [
    "import torch\n",
    "from torch import nn, optim\n",
    "from torch.utils.data import DataLoader\n",
    "from torch.utils.tensorboard import SummaryWriter\n",
    "from torchvision import datasets, models, transforms"
   ]
  },
  {
   "cell_type": "markdown",
   "id": "215500fa",
   "metadata": {
    "pycharm": {
     "name": "#%% md\n"
    }
   },
   "source": [
    "# Transfer learning on the CIFAR-10 dataset"
   ]
  },
  {
   "cell_type": "code",
   "execution_count": 13,
   "id": "38089b32",
   "metadata": {
    "pycharm": {
     "name": "#%%\n"
    }
   },
   "outputs": [],
   "source": [
    "# Hyperparameters\n",
    "learning_rate = 1e-4\n",
    "batch_size = 50\n",
    "NUM_EPOCHS = 4  # alter this afterwards\n",
    "momentum = 0.9\n",
    "loss_function = nn.CrossEntropyLoss()\n",
    "\n",
    "# Architecture\n",
    "NUM_CLASSES = 10\n"
   ]
  },
  {
   "cell_type": "code",
   "execution_count": 14,
   "id": "db6aa80c",
   "metadata": {
    "pycharm": {
     "name": "#%%\n"
    }
   },
   "outputs": [
    {
     "name": "stdout",
     "output_type": "stream",
     "text": [
      "Files already downloaded and verified\n",
      "Files already downloaded and verified\n"
     ]
    }
   ],
   "source": [
    "RESIZE_SIZE = 70\n",
    "CROP_TO_SIZE = 64\n",
    "\n",
    "transform = transforms.Compose([\n",
    "    transforms.Resize((RESIZE_SIZE, RESIZE_SIZE)),\n",
    "    transforms.RandomCrop((CROP_TO_SIZE, CROP_TO_SIZE)),\n",
    "    transforms.ToTensor(),\n",
    "])\n",
    "\n",
    "\n",
    "cifar_10_training_data = datasets.CIFAR10(\n",
    "    root='./data', train=True, download=True, transform=transform)\n",
    "cifar_10_test_data = datasets.CIFAR10(\n",
    "    root='./data', train=False, download=True, transform=transform)\n",
    "\n",
    "train_loader = DataLoader(\n",
    "    cifar_10_training_data, batch_size=batch_size, shuffle=True, num_workers=2\n",
    ")\n",
    "test_loader = DataLoader(\n",
    "    cifar_10_test_data, batch_size=batch_size, shuffle=False, num_workers=2\n",
    ")"
   ]
  },
  {
   "cell_type": "markdown",
   "id": "3728d08f",
   "metadata": {
    "pycharm": {
     "name": "#%% md\n"
    }
   },
   "source": [
    "Training-Testing Functions"
   ]
  },
  {
   "cell_type": "code",
   "execution_count": 15,
   "id": "476f556a",
   "metadata": {
    "pycharm": {
     "name": "#%%\n"
    }
   },
   "outputs": [],
   "source": [
    "writer = SummaryWriter()"
   ]
  },
  {
   "cell_type": "code",
   "execution_count": 16,
   "id": "9b74a92d",
   "metadata": {
    "pycharm": {
     "name": "#%%\n"
    }
   },
   "outputs": [],
   "source": [
    "BATCH_TO_PRINT = 100"
   ]
  },
  {
   "cell_type": "code",
   "execution_count": 17,
   "id": "b6f5b00d",
   "metadata": {
    "pycharm": {
     "name": "#%%\n"
    }
   },
   "outputs": [],
   "source": [
    "def train_model(data_loader, network, optimizer, criterion, num_epochs=NUM_EPOCHS):\n",
    "    device = torch.device('cuda' if torch.cuda.is_available() else 'cpu')\n",
    "    network.to(device)\n",
    "    network.train()\n",
    "    for epoch in range(num_epochs):\n",
    "        running_loss = epoch_loss = 0.\n",
    "        for i, data in enumerate(data_loader):\n",
    "            inputs, labels = data[0].to(device), data[1].to(device)\n",
    "            optimizer.zero_grad()\n",
    "            outputs = network(inputs)\n",
    "            loss = criterion(outputs, labels)\n",
    "            loss.backward()\n",
    "            optimizer.step()\n",
    "            running_loss += loss.item()\n",
    "            epoch_loss += loss.item()\n",
    "\n",
    "            if i % BATCH_TO_PRINT == (BATCH_TO_PRINT - 1):\n",
    "                print('[Epoch %d, Batch %5d] loss: %.3f' %\n",
    "                      (epoch + 1, i + 1, running_loss / BATCH_TO_PRINT))\n",
    "                running_loss = 0.0\n",
    "\n",
    "        writer.add_scalar(f'Loss/train:', epoch_loss / len(data_loader), epoch)\n",
    "        print(f\"[{epoch + 1}] loss: {epoch_loss / len(data_loader):.3f}\")\n",
    "\n",
    "    writer.flush()\n",
    "    return network\n",
    "\n",
    "\n",
    "def test_model(data_loader, network):\n",
    "    device = torch.device('cuda' if torch.cuda.is_available() else 'cpu')\n",
    "    network.to(device)\n",
    "    network.eval()\n",
    "    correct = 0\n",
    "    total = 0\n",
    "    with torch.no_grad():\n",
    "        for data in data_loader:\n",
    "            images, labels = data[0].to(device), data[1].to(device)\n",
    "            outputs = network(images)\n",
    "            _, predicted = torch.max(outputs.data, 1)\n",
    "            total += labels.size(0)\n",
    "            correct += (predicted == labels).sum().item()\n",
    "\n",
    "    print(F'Test accuracy: {(100 * correct / total):.2f}%')"
   ]
  },
  {
   "cell_type": "markdown",
   "id": "1dc6047f",
   "metadata": {
    "pycharm": {
     "name": "#%% md\n"
    }
   },
   "source": [
    "## Fine-tuning the model"
   ]
  },
  {
   "cell_type": "code",
   "execution_count": 7,
   "id": "6c8eb15c",
   "metadata": {
    "pycharm": {
     "name": "#%%\n"
    }
   },
   "outputs": [],
   "source": [
    "alexnet = models.alexnet(weights='AlexNet_Weights.DEFAULT')\n",
    "alexnet.classifier.add_module('6', nn.Linear(4096, NUM_CLASSES))\n",
    "\n",
    "optimizer = optim.SGD(alexnet.parameters(), lr=learning_rate, momentum=momentum)"
   ]
  },
  {
   "cell_type": "code",
   "execution_count": 8,
   "id": "390ea0b2",
   "metadata": {
    "pycharm": {
     "name": "#%%\n"
    }
   },
   "outputs": [
    {
     "name": "stdout",
     "output_type": "stream",
     "text": [
      "[Epoch 1, Batch   100] loss: 1.863\n",
      "[Epoch 1, Batch   200] loss: 1.439\n",
      "[Epoch 1, Batch   300] loss: 1.345\n",
      "[Epoch 1, Batch   400] loss: 1.252\n",
      "[Epoch 1, Batch   500] loss: 1.187\n",
      "[Epoch 1, Batch   600] loss: 1.163\n",
      "[Epoch 1, Batch   700] loss: 1.158\n",
      "[Epoch 1, Batch   800] loss: 1.113\n",
      "[Epoch 1, Batch   900] loss: 1.120\n",
      "[Epoch 1, Batch  1000] loss: 1.050\n",
      "[1] loss: 1.269\n",
      "[Epoch 2, Batch   100] loss: 1.011\n",
      "[Epoch 2, Batch   200] loss: 1.030\n",
      "[Epoch 2, Batch   300] loss: 1.005\n",
      "[Epoch 2, Batch   400] loss: 1.004\n",
      "[Epoch 2, Batch   500] loss: 0.983\n",
      "[Epoch 2, Batch   600] loss: 0.987\n",
      "[Epoch 2, Batch   700] loss: 0.978\n",
      "[Epoch 2, Batch   800] loss: 0.944\n",
      "[Epoch 2, Batch   900] loss: 0.936\n",
      "[Epoch 2, Batch  1000] loss: 0.923\n",
      "[2] loss: 0.980\n"
     ]
    }
   ],
   "source": [
    "trained_network = train_model(train_loader, alexnet, optimizer, loss_function, num_epochs=2)\n",
    "object_to_save = {\n",
    "    'model_state_dict': trained_network.state_dict(),\n",
    "    'optimizer_state_dict': optimizer.state_dict(),\n",
    "}\n",
    "torch.save(object_to_save, 'alexnet-fine-tuned-cifar-10.pt')"
   ]
  },
  {
   "cell_type": "code",
   "execution_count": null,
   "id": "fe699590",
   "metadata": {
    "pycharm": {
     "name": "#%%\n"
    }
   },
   "outputs": [],
   "source": [
    "trained_network = train_model(train_loader, alexnet, optimizer, loss_function, num_epochs=2)\n",
    "object_to_save = {\n",
    "    'model_state_dict': trained_network.state_dict(),\n",
    "    'optimizer_state_dict': optimizer.state_dict(),\n",
    "}\n",
    "torch.save(object_to_save, 'alexnet-fine-tuned-cifar-10.pt')"
   ]
  },
  {
   "cell_type": "code",
   "execution_count": 9,
   "id": "1f82c267",
   "metadata": {
    "pycharm": {
     "name": "#%%\n"
    }
   },
   "outputs": [
    {
     "name": "stdout",
     "output_type": "stream",
     "text": [
      "Test accuracy: 67.99%\n"
     ]
    }
   ],
   "source": [
    "test = test_model(test_loader, trained_network)"
   ]
  },
  {
   "cell_type": "markdown",
   "id": "dbbfed92",
   "metadata": {
    "pycharm": {
     "name": "#%% md\n"
    }
   },
   "source": [
    "## Feature extraction"
   ]
  },
  {
   "cell_type": "code",
   "execution_count": 10,
   "id": "032a5b69",
   "metadata": {
    "pycharm": {
     "name": "#%%\n"
    }
   },
   "outputs": [
    {
     "name": "stdout",
     "output_type": "stream",
     "text": [
      "[Epoch 1, Batch   100] loss: 1.846\n",
      "[Epoch 1, Batch   200] loss: 1.530\n",
      "[Epoch 1, Batch   300] loss: 1.431\n",
      "[Epoch 1, Batch   400] loss: 1.446\n",
      "[Epoch 1, Batch   500] loss: 1.391\n",
      "[Epoch 1, Batch   600] loss: 1.372\n",
      "[Epoch 1, Batch   700] loss: 1.337\n",
      "[Epoch 1, Batch   800] loss: 1.314\n",
      "[Epoch 1, Batch   900] loss: 1.333\n",
      "[Epoch 1, Batch  1000] loss: 1.348\n",
      "[1] loss: 1.435\n",
      "[Epoch 2, Batch   100] loss: 1.312\n",
      "[Epoch 2, Batch   200] loss: 1.274\n",
      "[Epoch 2, Batch   300] loss: 1.273\n",
      "[Epoch 2, Batch   400] loss: 1.283\n",
      "[Epoch 2, Batch   500] loss: 1.312\n",
      "[Epoch 2, Batch   600] loss: 1.264\n",
      "[Epoch 2, Batch   700] loss: 1.272\n",
      "[Epoch 2, Batch   800] loss: 1.261\n",
      "[Epoch 2, Batch   900] loss: 1.265\n",
      "[Epoch 2, Batch  1000] loss: 1.282\n",
      "[2] loss: 1.280\n",
      "[Epoch 3, Batch   100] loss: 1.247\n",
      "[Epoch 3, Batch   200] loss: 1.250\n",
      "[Epoch 3, Batch   300] loss: 1.264\n",
      "[Epoch 3, Batch   400] loss: 1.239\n",
      "[Epoch 3, Batch   500] loss: 1.241\n",
      "[Epoch 3, Batch   600] loss: 1.224\n",
      "[Epoch 3, Batch   700] loss: 1.188\n",
      "[Epoch 3, Batch   800] loss: 1.248\n",
      "[Epoch 3, Batch   900] loss: 1.230\n",
      "[Epoch 3, Batch  1000] loss: 1.251\n",
      "[3] loss: 1.238\n",
      "[Epoch 4, Batch   100] loss: 1.208\n",
      "[Epoch 4, Batch   200] loss: 1.209\n",
      "[Epoch 4, Batch   300] loss: 1.187\n",
      "[Epoch 4, Batch   400] loss: 1.201\n",
      "[Epoch 4, Batch   500] loss: 1.219\n",
      "[Epoch 4, Batch   600] loss: 1.204\n",
      "[Epoch 4, Batch   700] loss: 1.194\n",
      "[Epoch 4, Batch   800] loss: 1.215\n",
      "[Epoch 4, Batch   900] loss: 1.197\n",
      "[Epoch 4, Batch  1000] loss: 1.219\n",
      "[4] loss: 1.205\n"
     ]
    }
   ],
   "source": [
    "alexnet = models.alexnet(weights='AlexNet_Weights.DEFAULT')\n",
    "\n",
    "# Freeze all the layers in the feature extractor\n",
    "for param in alexnet.features.parameters():\n",
    "    param.requires_grad = False\n",
    "\n",
    "alexnet.classifier.add_module('6', nn.Linear(4096, NUM_CLASSES))\n",
    "\n",
    "optimizer = optim.SGD(alexnet.parameters(), lr=learning_rate, momentum=momentum)\n",
    "trained_network = train_model(train_loader, alexnet, optimizer, loss_function)\n",
    "object_to_save = {\n",
    "    'model_state_dict': trained_network.state_dict(),\n",
    "    'optimizer_state_dict': optimizer.state_dict(),\n",
    "}\n",
    "torch.save(object_to_save, 'alexnet-feature-extracted-cifar-10.pt')"
   ]
  },
  {
   "cell_type": "code",
   "execution_count": 11,
   "id": "69eaedab",
   "metadata": {
    "pycharm": {
     "name": "#%%\n"
    }
   },
   "outputs": [
    {
     "name": "stdout",
     "output_type": "stream",
     "text": [
      "Test accuracy: 58.98%\n"
     ]
    }
   ],
   "source": [
    "test_model(test_loader, trained_network)"
   ]
  },
  {
   "cell_type": "markdown",
   "id": "d681e004",
   "metadata": {
    "pycharm": {
     "name": "#%% md\n"
    }
   },
   "source": [
    "# Transfer learning from MNIST to SVHN"
   ]
  },
  {
   "cell_type": "code",
   "execution_count": 2,
   "id": "26bc9213",
   "metadata": {
    "pycharm": {
     "name": "#%%\n"
    }
   },
   "outputs": [],
   "source": [
    "import torch\n",
    "import torch.nn as nn\n",
    "\n",
    "MNIST_IMAGE_SIZE = 28\n",
    "\n",
    "num_input_channels = 1\n",
    "num_output_classes = 10\n",
    "\n",
    "num_conv1_channels = 32\n",
    "conv_kernel_size = 3\n",
    "conv_stride = 1\n",
    "conv_padding = 1\n",
    "pool_kernel_size = 2\n",
    "num_conv2_channels = 64\n",
    "\n",
    "fc1_output_size = 128\n",
    "fc2_output_size = 64\n",
    "fc3_output_size = 32\n",
    "\n",
    "dropout_rate = 0.25\n",
    "\n",
    "class CNN(nn.Module):\n",
    "    def __init__(self):\n",
    "        super().__init__()\n",
    "        self.conv1 = nn.Conv2d(\n",
    "            in_channels=num_input_channels,\n",
    "            out_channels=num_conv1_channels,\n",
    "            kernel_size=conv_kernel_size,\n",
    "            stride=conv_stride,\n",
    "            padding=conv_padding,\n",
    "        )\n",
    "        self.conv2 = nn.Conv2d(\n",
    "            in_channels=num_conv1_channels,\n",
    "            out_channels=num_conv2_channels,\n",
    "            kernel_size=conv_kernel_size,\n",
    "            stride=conv_stride,\n",
    "            padding=conv_padding,\n",
    "        )\n",
    "        self.relu = nn.ReLU()\n",
    "        self.max_pool = nn.MaxPool2d(kernel_size=pool_kernel_size)\n",
    "        self.dropout = nn.Dropout(dropout_rate)\n",
    "        self.fc1 = nn.Linear(\n",
    "            num_conv2_channels * MNIST_IMAGE_SIZE**2 // pool_kernel_size**4,\n",
    "            fc1_output_size,\n",
    "        )\n",
    "        self.fc2 = nn.Linear(fc1_output_size, fc2_output_size)\n",
    "        self.fc3 = nn.Linear(fc2_output_size, fc3_output_size)\n",
    "        self.fc4 = nn.Linear(fc3_output_size, num_output_classes)\n",
    "\n",
    "    def forward(self, x):\n",
    "        x = self.conv1(x)\n",
    "        x = self.relu(x)\n",
    "        x = self.max_pool(x)\n",
    "        x = self.conv2(x)\n",
    "        x = self.relu(x)\n",
    "        x = self.max_pool(x)\n",
    "        x = torch.flatten(x, start_dim=1)\n",
    "        x = self.fc1(x)\n",
    "        x = self.relu(x)\n",
    "        x = self.dropout(x)\n",
    "        x = self.fc2(x)\n",
    "        x = self.relu(x)\n",
    "        x = self.dropout(x)\n",
    "        x = self.fc3(x)\n",
    "        x = self.relu(x)\n",
    "        x = self.dropout(x)\n",
    "        x = self.fc4(x)\n",
    "        return x\n",
    "\n"
   ]
  },
  {
   "cell_type": "markdown",
   "id": "9fe6f3e1",
   "metadata": {
    "pycharm": {
     "name": "#%% md\n"
    }
   },
   "source": [
    "Set up the dataset and data loader"
   ]
  },
  {
   "cell_type": "code",
   "execution_count": 23,
   "id": "fcb543c8",
   "metadata": {
    "pycharm": {
     "name": "#%%\n"
    }
   },
   "outputs": [],
   "source": [
    "MNIST_MEAN, MNIST_STD = (0.1307,), (0.3081,)\n",
    "transform = transforms.Compose(\n",
    "    [transforms.ToTensor(), transforms.Normalize(MNIST_MEAN, MNIST_STD)]\n",
    ")\n",
    "mnist_training_data = datasets.MNIST(root='./data', train=True, transform=transform, download=True)\n",
    "mnist_test_data = datasets.MNIST(root='./data', train=False, transform=transform, download=True)\n",
    "train_loader = torch.utils.data.DataLoader(dataset=mnist_training_data, batch_size=64, shuffle=True)\n",
    "test_loader = torch.utils.data.DataLoader(dataset=mnist_test_data, batch_size=64, shuffle=False)"
   ]
  },
  {
   "cell_type": "markdown",
   "id": "c942b346",
   "metadata": {
    "pycharm": {
     "name": "#%% md\n"
    }
   },
   "source": [
    "# Instantiate the model and set up the optimizer and loss function"
   ]
  },
  {
   "cell_type": "code",
   "execution_count": 31,
   "id": "4ee2fa77",
   "metadata": {
    "pycharm": {
     "name": "#%%\n"
    }
   },
   "outputs": [],
   "source": [
    "learning_rate = 1e-3\n",
    "\n",
    "my_model = CNN()\n",
    "optimizer = optim.Adam(my_model.parameters(), lr=learning_rate)\n",
    "criterion = nn.CrossEntropyLoss()"
   ]
  },
  {
   "cell_type": "code",
   "execution_count": 32,
   "id": "5e9719b0",
   "metadata": {
    "pycharm": {
     "name": "#%%\n"
    }
   },
   "outputs": [
    {
     "name": "stdout",
     "output_type": "stream",
     "text": [
      "[Epoch 1, Batch   100] loss: 1.335\n",
      "[Epoch 1, Batch   200] loss: 0.449\n",
      "[Epoch 1, Batch   300] loss: 0.287\n",
      "[Epoch 1, Batch   400] loss: 0.221\n",
      "[Epoch 1, Batch   500] loss: 0.189\n",
      "[Epoch 1, Batch   600] loss: 0.181\n",
      "[Epoch 1, Batch   700] loss: 0.157\n",
      "[Epoch 1, Batch   800] loss: 0.136\n",
      "[Epoch 1, Batch   900] loss: 0.128\n",
      "[1] loss: 0.334\n",
      "[Epoch 2, Batch   100] loss: 0.101\n",
      "[Epoch 2, Batch   200] loss: 0.116\n",
      "[Epoch 2, Batch   300] loss: 0.107\n",
      "[Epoch 2, Batch   400] loss: 0.099\n",
      "[Epoch 2, Batch   500] loss: 0.098\n",
      "[Epoch 2, Batch   600] loss: 0.095\n",
      "[Epoch 2, Batch   700] loss: 0.094\n",
      "[Epoch 2, Batch   800] loss: 0.099\n",
      "[Epoch 2, Batch   900] loss: 0.099\n",
      "[2] loss: 0.101\n",
      "[Epoch 3, Batch   100] loss: 0.086\n",
      "[Epoch 3, Batch   200] loss: 0.084\n",
      "[Epoch 3, Batch   300] loss: 0.066\n",
      "[Epoch 3, Batch   400] loss: 0.083\n",
      "[Epoch 3, Batch   500] loss: 0.065\n",
      "[Epoch 3, Batch   600] loss: 0.081\n",
      "[Epoch 3, Batch   700] loss: 0.073\n",
      "[Epoch 3, Batch   800] loss: 0.075\n",
      "[Epoch 3, Batch   900] loss: 0.069\n",
      "[3] loss: 0.076\n",
      "[Epoch 4, Batch   100] loss: 0.049\n",
      "[Epoch 4, Batch   200] loss: 0.059\n",
      "[Epoch 4, Batch   300] loss: 0.068\n",
      "[Epoch 4, Batch   400] loss: 0.058\n",
      "[Epoch 4, Batch   500] loss: 0.058\n",
      "[Epoch 4, Batch   600] loss: 0.058\n",
      "[Epoch 4, Batch   700] loss: 0.066\n",
      "[Epoch 4, Batch   800] loss: 0.066\n",
      "[Epoch 4, Batch   900] loss: 0.059\n",
      "[4] loss: 0.060\n"
     ]
    }
   ],
   "source": [
    "trained_network = train_model(train_loader, my_model, optimizer, loss_function, num_epochs=4)"
   ]
  },
  {
   "cell_type": "code",
   "execution_count": 33,
   "id": "e6f6052f",
   "metadata": {
    "pycharm": {
     "name": "#%%\n"
    }
   },
   "outputs": [],
   "source": [
    "torch.save(trained_network.state_dict(), 'my-cnn-mnist.pt')"
   ]
  },
  {
   "cell_type": "code",
   "execution_count": 34,
   "id": "efb44267",
   "metadata": {
    "pycharm": {
     "name": "#%%\n"
    }
   },
   "outputs": [
    {
     "name": "stdout",
     "output_type": "stream",
     "text": [
      "Test accuracy: 99.06%\n"
     ]
    }
   ],
   "source": [
    "test_model(test_loader, trained_network)"
   ]
  },
  {
   "cell_type": "markdown",
   "id": "a5d8511b",
   "metadata": {
    "pycharm": {
     "name": "#%% md\n"
    }
   },
   "source": [
    "## Use pre-trained model for SVNH dataset"
   ]
  },
  {
   "cell_type": "code",
   "execution_count": 39,
   "id": "96510719",
   "metadata": {
    "pycharm": {
     "name": "#%%\n"
    }
   },
   "outputs": [],
   "source": [
    "pretrained_model = CNN()\n",
    "pretrained_model.load_state_dict(torch.load('my-cnn-mnist.pt'))\n",
    "\n",
    "# Freeze the weights of the pretrained model\n",
    "for param in pretrained_model.parameters():\n",
    "    param.requires_grad = False"
   ]
  },
  {
   "cell_type": "markdown",
   "id": "b9b54935",
   "metadata": {
    "pycharm": {
     "name": "#%% md\n"
    }
   },
   "source": [
    "Modify the last layer of the model to output 10 classes instead of 2"
   ]
  },
  {
   "cell_type": "code",
   "execution_count": 40,
   "id": "2e0f6b66",
   "metadata": {
    "pycharm": {
     "name": "#%%\n"
    }
   },
   "outputs": [],
   "source": [
    "pretrained_model.fc1.requires_grad = True\n",
    "\n",
    "# Modify the first convolutional layer to accept 3 channels instead of 1\n",
    "pretrained_model.conv1 = nn.Conv2d(\n",
    "    in_channels=3,\n",
    "    out_channels=num_conv1_channels,\n",
    "    kernel_size=conv_kernel_size,\n",
    "    stride=conv_stride,\n",
    "    padding=conv_padding,\n",
    ")\n",
    "SVHN_IMAGE_SIZE = 32\n",
    "pretrained_model.fc1 = nn.Linear(\n",
    "    num_conv2_channels * SVHN_IMAGE_SIZE**2 // pool_kernel_size**4,\n",
    "    fc1_output_size,\n",
    ")"
   ]
  },
  {
   "cell_type": "markdown",
   "id": "c1bec209",
   "metadata": {
    "pycharm": {
     "name": "#%% md\n"
    }
   },
   "source": [
    "Set up the dataset and data loader"
   ]
  },
  {
   "cell_type": "code",
   "execution_count": 19,
   "id": "65b60f2c",
   "metadata": {
    "pycharm": {
     "name": "#%%\n"
    }
   },
   "outputs": [
    {
     "name": "stdout",
     "output_type": "stream",
     "text": [
      "Using downloaded and verified file: ./data\\train_32x32.mat\n",
      "Using downloaded and verified file: ./data\\test_32x32.mat\n"
     ]
    }
   ],
   "source": [
    "transform = transforms.Compose([\n",
    "    transforms.Resize((SVHN_IMAGE_SIZE, SVHN_IMAGE_SIZE)),\n",
    "    transforms.ToTensor(),\n",
    "    transforms.Normalize((0.5, 0.5, 0.5), (0.5, 0.5, 0.5)),\n",
    "])\n",
    "svhn_train_data = datasets.SVHN(root='./data', split='train', transform=transform, download=True)\n",
    "svhn_test_data = datasets.SVHN(root='./data', split='test', transform=transform, download=True)\n",
    "svhn_train_loader = torch.utils.data.DataLoader(\n",
    "    dataset=svhn_train_data, batch_size=128, shuffle=True\n",
    ")\n",
    "svhn_test_loader = torch.utils.data.DataLoader(\n",
    "    dataset=svhn_test_data, batch_size=128, shuffle=False\n",
    ")"
   ]
  },
  {
   "cell_type": "markdown",
   "id": "41636ce9",
   "metadata": {
    "pycharm": {
     "name": "#%% md\n"
    }
   },
   "source": [
    "Set up the optimizer and loss function"
   ]
  },
  {
   "cell_type": "code",
   "execution_count": 42,
   "id": "66d4756b",
   "metadata": {
    "pycharm": {
     "name": "#%%\n"
    }
   },
   "outputs": [],
   "source": [
    "optimizer = optim.Adam(pretrained_model.fc2.parameters(), lr=learning_rate)"
   ]
  },
  {
   "cell_type": "code",
   "execution_count": 43,
   "id": "4418dca8",
   "metadata": {
    "pycharm": {
     "name": "#%%\n"
    }
   },
   "outputs": [
    {
     "name": "stdout",
     "output_type": "stream",
     "text": [
      "[Epoch 1, Batch   100] loss: 2.319\n",
      "[Epoch 1, Batch   200] loss: 2.320\n",
      "[Epoch 1, Batch   300] loss: 2.321\n",
      "[Epoch 1, Batch   400] loss: 2.321\n",
      "[Epoch 1, Batch   500] loss: 2.316\n",
      "[1] loss: 2.320\n",
      "[Epoch 2, Batch   100] loss: 2.317\n",
      "[Epoch 2, Batch   200] loss: 2.321\n",
      "[Epoch 2, Batch   300] loss: 2.320\n",
      "[Epoch 2, Batch   400] loss: 2.319\n",
      "[Epoch 2, Batch   500] loss: 2.319\n",
      "[2] loss: 2.319\n",
      "[Epoch 3, Batch   100] loss: 2.316\n",
      "[Epoch 3, Batch   200] loss: 2.319\n",
      "[Epoch 3, Batch   300] loss: 2.321\n",
      "[Epoch 3, Batch   400] loss: 2.322\n",
      "[Epoch 3, Batch   500] loss: 2.323\n",
      "[3] loss: 2.320\n",
      "[Epoch 4, Batch   100] loss: 2.321\n",
      "[Epoch 4, Batch   200] loss: 2.319\n",
      "[Epoch 4, Batch   300] loss: 2.317\n",
      "[Epoch 4, Batch   400] loss: 2.320\n",
      "[Epoch 4, Batch   500] loss: 2.322\n",
      "[4] loss: 2.319\n"
     ]
    }
   ],
   "source": [
    "trained_network = train_model(\n",
    "    svhn_train_loader, pretrained_model, optimizer, loss_function, num_epochs=4\n",
    ")\n",
    "torch.save(trained_network.state_dict(), 'my-cnn-mnist-pretrained-svhn.pt')"
   ]
  },
  {
   "cell_type": "code",
   "execution_count": 44,
   "id": "0babb2c0",
   "metadata": {
    "pycharm": {
     "name": "#%%\n"
    }
   },
   "outputs": [
    {
     "name": "stdout",
     "output_type": "stream",
     "text": [
      "Test accuracy: 6.38%\n"
     ]
    }
   ],
   "source": [
    "test_model(svhn_test_loader, trained_network)"
   ]
  },
  {
   "cell_type": "markdown",
   "id": "a74fceb2",
   "metadata": {
    "pycharm": {
     "name": "#%% md\n"
    }
   },
   "source": [
    "## Transfer learning"
   ]
  },
  {
   "cell_type": "code",
   "execution_count": 20,
   "id": "6881e782",
   "metadata": {
    "pycharm": {
     "name": "#%%\n"
    }
   },
   "outputs": [
    {
     "name": "stdout",
     "output_type": "stream",
     "text": [
      "[Epoch 1, Batch   100] loss: 2.288\n",
      "[Epoch 1, Batch   200] loss: 2.262\n",
      "[Epoch 1, Batch   300] loss: 2.246\n",
      "[Epoch 1, Batch   400] loss: 2.236\n",
      "[Epoch 1, Batch   500] loss: 2.231\n",
      "[1] loss: 2.249\n",
      "[Epoch 2, Batch   100] loss: 2.209\n",
      "[Epoch 2, Batch   200] loss: 2.170\n",
      "[Epoch 2, Batch   300] loss: 2.125\n",
      "[Epoch 2, Batch   400] loss: 2.070\n",
      "[Epoch 2, Batch   500] loss: 1.983\n",
      "[2] loss: 2.085\n",
      "[Epoch 3, Batch   100] loss: 1.814\n",
      "[Epoch 3, Batch   200] loss: 1.716\n",
      "[Epoch 3, Batch   300] loss: 1.610\n",
      "[Epoch 3, Batch   400] loss: 1.519\n",
      "[Epoch 3, Batch   500] loss: 1.444\n",
      "[3] loss: 1.591\n",
      "[Epoch 4, Batch   100] loss: 1.301\n",
      "[Epoch 4, Batch   200] loss: 1.255\n",
      "[Epoch 4, Batch   300] loss: 1.190\n",
      "[Epoch 4, Batch   400] loss: 1.136\n",
      "[Epoch 4, Batch   500] loss: 1.084\n",
      "[4] loss: 1.175\n",
      "[Epoch 5, Batch   100] loss: 1.011\n",
      "[Epoch 5, Batch   200] loss: 0.978\n",
      "[Epoch 5, Batch   300] loss: 0.962\n",
      "[Epoch 5, Batch   400] loss: 0.915\n",
      "[Epoch 5, Batch   500] loss: 0.917\n",
      "[5] loss: 0.947\n",
      "[Epoch 6, Batch   100] loss: 0.850\n",
      "[Epoch 6, Batch   200] loss: 0.849\n",
      "[Epoch 6, Batch   300] loss: 0.825\n",
      "[Epoch 6, Batch   400] loss: 0.823\n",
      "[Epoch 6, Batch   500] loss: 0.801\n",
      "[6] loss: 0.824\n",
      "[Epoch 7, Batch   100] loss: 0.773\n",
      "[Epoch 7, Batch   200] loss: 0.758\n",
      "[Epoch 7, Batch   300] loss: 0.752\n",
      "[Epoch 7, Batch   400] loss: 0.743\n",
      "[Epoch 7, Batch   500] loss: 0.728\n",
      "[7] loss: 0.746\n",
      "[Epoch 8, Batch   100] loss: 0.694\n",
      "[Epoch 8, Batch   200] loss: 0.704\n",
      "[Epoch 8, Batch   300] loss: 0.703\n",
      "[Epoch 8, Batch   400] loss: 0.675\n",
      "[Epoch 8, Batch   500] loss: 0.667\n",
      "[8] loss: 0.687\n",
      "[Epoch 9, Batch   100] loss: 0.650\n",
      "[Epoch 9, Batch   200] loss: 0.630\n",
      "[Epoch 9, Batch   300] loss: 0.643\n",
      "[Epoch 9, Batch   400] loss: 0.653\n",
      "[Epoch 9, Batch   500] loss: 0.643\n",
      "[9] loss: 0.642\n",
      "[Epoch 10, Batch   100] loss: 0.616\n",
      "[Epoch 10, Batch   200] loss: 0.615\n",
      "[Epoch 10, Batch   300] loss: 0.611\n",
      "[Epoch 10, Batch   400] loss: 0.625\n",
      "[Epoch 10, Batch   500] loss: 0.595\n",
      "[10] loss: 0.611\n"
     ]
    }
   ],
   "source": [
    "pretrained_model = CNN()\n",
    "pretrained_model.load_state_dict(torch.load('my-cnn-mnist.pt'))\n",
    "\n",
    "for param in pretrained_model.parameters():\n",
    "    param.requires_grad = True\n",
    "    \n",
    "\n",
    "pretrained_model.conv1 = nn.Conv2d(\n",
    "    in_channels=3,\n",
    "    out_channels=num_conv1_channels,\n",
    "    kernel_size=conv_kernel_size,\n",
    "    stride=conv_stride,\n",
    "    padding=conv_padding,\n",
    ")\n",
    "SVHN_IMAGE_SIZE = 32\n",
    "pretrained_model.fc1 = nn.Linear(\n",
    "    num_conv2_channels * SVHN_IMAGE_SIZE**2 // pool_kernel_size**4,\n",
    "    fc1_output_size,\n",
    ")\n",
    "optimizer = optim.SGD(pretrained_model.parameters(), lr=0.001, momentum=0.9)\n",
    "trained_network = train_model(\n",
    "    svhn_train_loader, pretrained_model, optimizer, loss_function, num_epochs=10\n",
    ")\n",
    "torch.save(trained_network.state_dict(), 'my-cnn-mnist-transfer-svhn.pt')"
   ]
  },
  {
   "cell_type": "code",
   "execution_count": 21,
   "id": "7b1c6448",
   "metadata": {
    "pycharm": {
     "name": "#%%\n"
    }
   },
   "outputs": [
    {
     "name": "stdout",
     "output_type": "stream",
     "text": [
      "Test accuracy: 84.36%\n"
     ]
    }
   ],
   "source": [
    "test_model(svhn_test_loader, trained_network)"
   ]
  },
  {
   "cell_type": "markdown",
   "id": "ec1c9609",
   "metadata": {
    "pycharm": {
     "name": "#%% md\n"
    }
   },
   "source": []
  }
 ],
 "metadata": {
  "kernelspec": {
   "display_name": "Python 3 (ipykernel)",
   "language": "python",
   "name": "python3"
  },
  "language_info": {
   "codemirror_mode": {
    "name": "ipython",
    "version": 3
   },
   "file_extension": ".py",
   "mimetype": "text/x-python",
   "name": "python",
   "nbconvert_exporter": "python",
   "pygments_lexer": "ipython3",
   "version": "3.9.13"
  }
 },
 "nbformat": 4,
 "nbformat_minor": 5
}
